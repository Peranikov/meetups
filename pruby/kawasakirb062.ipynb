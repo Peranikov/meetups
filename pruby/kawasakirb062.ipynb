{
 "cells": [
  {
   "cell_type": "markdown",
   "metadata": {},
   "source": [
    "## 5-9-7 スレッドの優先順位"
   ]
  },
  {
   "cell_type": "code",
   "execution_count": 1,
   "metadata": {},
   "outputs": [
    {
     "data": {
      "text/plain": [
       "0"
      ]
     },
     "execution_count": 1,
     "metadata": {},
     "output_type": "execute_result"
    }
   ],
   "source": [
    "current = Thread.current\n",
    "# デフォルトの優先度は 0\n",
    "current.priority"
   ]
  },
  {
   "cell_type": "code",
   "execution_count": 2,
   "metadata": {},
   "outputs": [
    {
     "data": {
      "text/plain": [
       "2"
      ]
     },
     "execution_count": 2,
     "metadata": {},
     "output_type": "execute_result"
    }
   ],
   "source": [
    "# Thread#priority= で優先度の設定ができる\n",
    "current.priority = 2\n",
    "current.priority"
   ]
  },
  {
   "cell_type": "code",
   "execution_count": 3,
   "metadata": {},
   "outputs": [
    {
     "name": "stdout",
     "output_type": "stream",
     "text": [
      "3\n"
     ]
    },
    {
     "data": {
      "text/plain": [
       "#<Thread:0x000055bb568aa3d8@(pry):12 dead>"
      ]
     },
     "execution_count": 3,
     "metadata": {},
     "output_type": "execute_result"
    }
   ],
   "source": [
    "# 現在のスレッド\n",
    "current = Thread.current\n",
    "current.priority = 3\n",
    "\n",
    "# 新たなスレッドを生成した場合は親のスレッドから優先度を引き継ぐ\n",
    "Thread.fork do\n",
    "  puts Thread.current.priority\n",
    "end"
   ]
  },
  {
   "cell_type": "markdown",
   "metadata": {},
   "source": [
    "## 5-9-8 ThreadGroup"
   ]
  },
  {
   "cell_type": "code",
   "execution_count": 4,
   "metadata": {},
   "outputs": [
    {
     "name": "stdout",
     "output_type": "stream",
     "text": [
      "[]\n"
     ]
    },
    {
     "data": {
      "text/plain": [
       "[#<Thread:0x000055bb568e5ff0@(pry):19 sleep>]"
      ]
     },
     "execution_count": 4,
     "metadata": {},
     "output_type": "execute_result"
    }
   ],
   "source": [
    "group = ThreadGroup.new\n",
    "\n",
    "p group.list\n",
    "\n",
    "thread = Thread.fork do\n",
    "  sleep 1\n",
    "end\n",
    "\n",
    "# グループにスレッドを追加\n",
    "# グループ単位でまとめて何らかの操作を行うことができる\n",
    "group.add thread\n",
    "\n",
    "# グループのスレッド一覧\n",
    "group.list"
   ]
  },
  {
   "cell_type": "markdown",
   "metadata": {},
   "source": [
    "## 5-9-9 Mutex"
   ]
  },
  {
   "cell_type": "code",
   "execution_count": 5,
   "metadata": {},
   "outputs": [
    {
     "name": "stdout",
     "output_type": "stream",
     "text": [
      "8\n"
     ]
    }
   ],
   "source": [
    "def countup\n",
    "  File.open 'counter', File::RDWR | File::CREAT do |f|\n",
    "    last_count = f.read.to_i\n",
    "    \n",
    "    f.rewind\n",
    "    f.write last_count + 1\n",
    "  end\n",
    "end\n",
    "\n",
    "10.times.map {\n",
    "  Thread.fork { countup }\n",
    "}.map(&:join)\n",
    "\n",
    "# 10回カウントアップしたはずなのに 10 にならないことがある\n",
    "puts File.read('counter').to_i "
   ]
  },
  {
   "cell_type": "code",
   "execution_count": 6,
   "metadata": {},
   "outputs": [
    {
     "name": "stdout",
     "output_type": "stream",
     "text": [
      "10\n"
     ]
    }
   ],
   "source": [
    "File.unlink('counter')\n",
    "mutex = Mutex.new\n",
    "\n",
    "10.times.map {\n",
    "  # Mutex で排他処理を行えば共有データを安全に参照・更新することができる\n",
    "  Thread.fork do\n",
    "    mutex.synchronize { countup }\n",
    "  end\n",
    "}.map(&:join)\n",
    "\n",
    "puts File.read('counter').to_i"
   ]
  },
  {
   "cell_type": "markdown",
   "metadata": {},
   "source": [
    "## 5-9-10 デッドロック"
   ]
  },
  {
   "cell_type": "code",
   "execution_count": 7,
   "metadata": {},
   "outputs": [
    {
     "ename": "Interrupt",
     "evalue": "",
     "execution_count": 7,
     "output_type": "error",
     "status": "error",
     "traceback": [
      "\u001b[31mInterrupt\u001b[0m: ",
      "\u001b[37m(pry):68:in `join'\u001b[0m",
      "\u001b[37m(pry):68:in `<main>'\u001b[0m",
      "\u001b[37m/home/nagomiso/.anyenv/envs/rbenv/versions/2.5.1/lib/ruby/gems/2.5.0/gems/pry-0.11.3/lib/pry/pry_instance.rb:355:in `eval'\u001b[0m",
      "\u001b[37m/home/nagomiso/.anyenv/envs/rbenv/versions/2.5.1/lib/ruby/gems/2.5.0/gems/pry-0.11.3/lib/pry/pry_instance.rb:355:in `evaluate_ruby'\u001b[0m",
      "\u001b[37m/home/nagomiso/.anyenv/envs/rbenv/versions/2.5.1/lib/ruby/gems/2.5.0/gems/pry-0.11.3/lib/pry/pry_instance.rb:323:in `handle_line'\u001b[0m",
      "\u001b[37m/home/nagomiso/.anyenv/envs/rbenv/versions/2.5.1/lib/ruby/gems/2.5.0/gems/pry-0.11.3/lib/pry/pry_instance.rb:243:in `block (2 levels) in eval'\u001b[0m",
      "\u001b[37m/home/nagomiso/.anyenv/envs/rbenv/versions/2.5.1/lib/ruby/gems/2.5.0/gems/pry-0.11.3/lib/pry/pry_instance.rb:242:in `catch'\u001b[0m",
      "\u001b[37m/home/nagomiso/.anyenv/envs/rbenv/versions/2.5.1/lib/ruby/gems/2.5.0/gems/pry-0.11.3/lib/pry/pry_instance.rb:242:in `block in eval'\u001b[0m",
      "\u001b[37m/home/nagomiso/.anyenv/envs/rbenv/versions/2.5.1/lib/ruby/gems/2.5.0/gems/pry-0.11.3/lib/pry/pry_instance.rb:241:in `catch'\u001b[0m",
      "\u001b[37m/home/nagomiso/.anyenv/envs/rbenv/versions/2.5.1/lib/ruby/gems/2.5.0/gems/pry-0.11.3/lib/pry/pry_instance.rb:241:in `eval'\u001b[0m",
      "\u001b[37m/home/nagomiso/.anyenv/envs/rbenv/versions/2.5.1/lib/ruby/gems/2.5.0/gems/iruby-0.3/lib/iruby/backend.rb:66:in `eval'\u001b[0m",
      "\u001b[37m/home/nagomiso/.anyenv/envs/rbenv/versions/2.5.1/lib/ruby/gems/2.5.0/gems/iruby-0.3/lib/iruby/backend.rb:12:in `eval'\u001b[0m",
      "\u001b[37m/home/nagomiso/.anyenv/envs/rbenv/versions/2.5.1/lib/ruby/gems/2.5.0/gems/iruby-0.3/lib/iruby/kernel.rb:87:in `execute_request'\u001b[0m",
      "\u001b[37m/home/nagomiso/.anyenv/envs/rbenv/versions/2.5.1/lib/ruby/gems/2.5.0/gems/iruby-0.3/lib/iruby/kernel.rb:47:in `dispatch'\u001b[0m",
      "\u001b[37m/home/nagomiso/.anyenv/envs/rbenv/versions/2.5.1/lib/ruby/gems/2.5.0/gems/iruby-0.3/lib/iruby/kernel.rb:37:in `run'\u001b[0m",
      "\u001b[37m/home/nagomiso/.anyenv/envs/rbenv/versions/2.5.1/lib/ruby/gems/2.5.0/gems/iruby-0.3/lib/iruby/command.rb:70:in `run_kernel'\u001b[0m",
      "\u001b[37m/home/nagomiso/.anyenv/envs/rbenv/versions/2.5.1/lib/ruby/gems/2.5.0/gems/iruby-0.3/lib/iruby/command.rb:34:in `run'\u001b[0m",
      "\u001b[37m/home/nagomiso/.anyenv/envs/rbenv/versions/2.5.1/lib/ruby/gems/2.5.0/gems/iruby-0.3/bin/iruby:5:in `<top (required)>'\u001b[0m",
      "\u001b[37m/home/nagomiso/.anyenv/envs/rbenv/versions/2.5.1/bin/iruby:23:in `load'\u001b[0m",
      "\u001b[37m/home/nagomiso/.anyenv/envs/rbenv/versions/2.5.1/bin/iruby:23:in `<main>'\u001b[0m"
     ]
    }
   ],
   "source": [
    "m1, m2 = Mutex.new, Mutex.new\n",
    "\n",
    "t1 = Thread.fork {\n",
    "  m1.lock\n",
    "  sleep 1\n",
    "  m2.lock\n",
    "}\n",
    "\n",
    "t2 = Thread.fork {\n",
    "  m2.lock\n",
    "  sleep 1\n",
    "  m1.lock\n",
    "}\n",
    "\n",
    "# t1, t2 が互いが保持するロックを待ち続けるので永遠にブロックされる\n",
    "t1.join\n",
    "t2.join"
   ]
  },
  {
   "cell_type": "markdown",
   "metadata": {},
   "source": [
    "## 5-9-11 Queue （第2版追加）"
   ]
  },
  {
   "cell_type": "code",
   "execution_count": 8,
   "metadata": {},
   "outputs": [
    {
     "data": {
      "text/plain": [
       "#<Thread::Queue:0x000055bb56380bc8>"
      ]
     },
     "execution_count": 8,
     "metadata": {},
     "output_type": "execute_result"
    }
   ],
   "source": [
    "queue = Queue.new"
   ]
  },
  {
   "cell_type": "code",
   "execution_count": 15,
   "metadata": {},
   "outputs": [
    {
     "name": "stdout",
     "output_type": "stream",
     "text": [
      "worker1 processing...\n",
      "worker0 processing...\n",
      "worker2 processing...\n",
      "worker1 processing...\n",
      "worker2 processing...\n",
      "worker0 processing...\n",
      "worker1 processing...\n",
      "worker0 processing...\n",
      "worker2 processing...\n",
      "worker2 processing...\n",
      "[\"sleep\", \"sleep\", \"sleep\"]\n",
      "worker1 processing...\n",
      "worker0 processing...\n",
      "worker1 processing...\n",
      "[\"sleep\", \"sleep\", \"sleep\"]\n"
     ]
    }
   ],
   "source": [
    "# Queue を使うと Worker Thread が\n",
    "workers = 3.times.map {|t|\n",
    "  Thread.fork {\n",
    "    while req = queue.deq\n",
    "      puts \"worker#{t} processing...\"\n",
    "      req.call\n",
    "    end\n",
    "  }\n",
    "}\n",
    "\n",
    "10.times do |t|\n",
    "  queue.enq -> {\n",
    "    sleep 1\n",
    "  }\n",
    "end\n",
    "\n",
    "sleep 1 until queue.empty?\n",
    "\n",
    "p workers.map(&:status)\n",
    "\n",
    "3.times do |t|\n",
    "  queue.enq -> { sleep 1}\n",
    "end\n",
    "\n",
    "sleep 1 until queue.empty?\n",
    "p workers.map(&:status)\n",
    "\n",
    "sleep 1 until queue.empty?"
   ]
  },
  {
   "cell_type": "markdown",
   "metadata": {},
   "source": [
    "次回は 5-10 Fiber から..."
   ]
  },
  {
   "cell_type": "code",
   "execution_count": null,
   "metadata": {},
   "outputs": [],
   "source": []
  }
 ],
 "metadata": {
  "kernelspec": {
   "display_name": "Ruby 2.5.1",
   "language": "ruby",
   "name": "ruby"
  },
  "language_info": {
   "file_extension": ".rb",
   "mimetype": "application/x-ruby",
   "name": "ruby",
   "version": "2.5.1"
  }
 },
 "nbformat": 4,
 "nbformat_minor": 2
}
