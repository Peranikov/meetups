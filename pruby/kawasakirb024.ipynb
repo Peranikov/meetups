{
 "metadata": {
  "language": "ruby",
  "name": "",
  "signature": "sha256:287cd8218bcac22fcb99d2f55c99a5034b6dc759678b989d6c3e89092bd27f3a"
 },
 "nbformat": 3,
 "nbformat_minor": 0,
 "worksheets": [
  {
   "cells": [
    {
     "cell_type": "markdown",
     "metadata": {},
     "source": [
      "# 3-6-3 \u5916\u90e8\u30d5\u30a1\u30a4\u30eb\u3092\u8aad\u307f\u8fbc\u3080"
     ]
    },
    {
     "cell_type": "code",
     "collapsed": false,
     "input": [
      "require 'erb'"
     ],
     "language": "python",
     "metadata": {},
     "outputs": [
      {
       "metadata": {},
       "output_type": "pyout",
       "prompt_number": 3,
       "text": [
        "true"
       ]
      }
     ],
     "prompt_number": 3
    },
    {
     "cell_type": "code",
     "collapsed": false,
     "input": [
      "pp $LOAD_PATH"
     ],
     "language": "python",
     "metadata": {},
     "outputs": [
      {
       "output_type": "stream",
       "stream": "stdout",
       "text": []
      },
      {
       "output_type": "stream",
       "stream": "stdout",
       "text": [
        "["
       ]
      },
      {
       "output_type": "stream",
       "stream": "stdout",
       "text": []
      },
      {
       "output_type": "stream",
       "stream": "stdout",
       "text": [
        "\"/Users/mic/.rbenv/versions/2.1.0/lib/ruby/gems/2.1.0/gems/iruby-0.1.13/bin/../lib\""
       ]
      },
      {
       "output_type": "stream",
       "stream": "stdout",
       "text": []
      },
      {
       "output_type": "stream",
       "stream": "stdout",
       "text": [
        ","
       ]
      },
      {
       "output_type": "stream",
       "stream": "stdout",
       "text": [
        "\n"
       ]
      },
      {
       "output_type": "stream",
       "stream": "stdout",
       "text": [
        " "
       ]
      },
      {
       "output_type": "stream",
       "stream": "stdout",
       "text": []
      },
      {
       "output_type": "stream",
       "stream": "stdout",
       "text": [
        "\"/Users/mic/.rbenv/versions/2.1.0/lib/ruby/gems/2.1.0/extensions/x86_64-darwin-13/2.1.0-static/bond-0.5.1\""
       ]
      },
      {
       "output_type": "stream",
       "stream": "stdout",
       "text": []
      },
      {
       "output_type": "stream",
       "stream": "stdout",
       "text": [
        ","
       ]
      },
      {
       "output_type": "stream",
       "stream": "stdout",
       "text": [
        "\n"
       ]
      },
      {
       "output_type": "stream",
       "stream": "stdout",
       "text": [
        " "
       ]
      },
      {
       "output_type": "stream",
       "stream": "stdout",
       "text": []
      },
      {
       "output_type": "stream",
       "stream": "stdout",
       "text": [
        "\"/Users/mic/.rbenv/versions/2.1.0/lib/ruby/gems/2.1.0/gems/bond-0.5.1/lib\""
       ]
      },
      {
       "output_type": "stream",
       "stream": "stdout",
       "text": []
      },
      {
       "output_type": "stream",
       "stream": "stdout",
       "text": [
        ","
       ]
      },
      {
       "output_type": "stream",
       "stream": "stdout",
       "text": [
        "\n"
       ]
      },
      {
       "output_type": "stream",
       "stream": "stdout",
       "text": [
        " "
       ]
      },
      {
       "output_type": "stream",
       "stream": "stdout",
       "text": []
      },
      {
       "output_type": "stream",
       "stream": "stdout",
       "text": [
        "\"/Users/mic/.rbenv/versions/2.1.0/lib/ruby/gems/2.1.0/gems/ffi-rzmq-core-1.0.3/lib\""
       ]
      },
      {
       "output_type": "stream",
       "stream": "stdout",
       "text": []
      },
      {
       "output_type": "stream",
       "stream": "stdout",
       "text": [
        ","
       ]
      },
      {
       "output_type": "stream",
       "stream": "stdout",
       "text": [
        "\n"
       ]
      },
      {
       "output_type": "stream",
       "stream": "stdout",
       "text": [
        " "
       ]
      },
      {
       "output_type": "stream",
       "stream": "stdout",
       "text": []
      },
      {
       "output_type": "stream",
       "stream": "stdout",
       "text": [
        "\"/Users/mic/.rbenv/versions/2.1.0/lib/ruby/gems/2.1.0/gems/ffi-rzmq-2.0.1/lib\""
       ]
      },
      {
       "output_type": "stream",
       "stream": "stdout",
       "text": []
      },
      {
       "output_type": "stream",
       "stream": "stdout",
       "text": [
        ","
       ]
      },
      {
       "output_type": "stream",
       "stream": "stdout",
       "text": [
        "\n"
       ]
      },
      {
       "output_type": "stream",
       "stream": "stdout",
       "text": [
        " "
       ]
      },
      {
       "output_type": "stream",
       "stream": "stdout",
       "text": []
      },
      {
       "output_type": "stream",
       "stream": "stdout",
       "text": [
        "\"/Users/mic/.rbenv/versions/2.1.0/lib/ruby/gems/2.1.0/gems/multi_json-1.10.1/lib\""
       ]
      },
      {
       "output_type": "stream",
       "stream": "stdout",
       "text": []
      },
      {
       "output_type": "stream",
       "stream": "stdout",
       "text": [
        ","
       ]
      },
      {
       "output_type": "stream",
       "stream": "stdout",
       "text": [
        "\n"
       ]
      },
      {
       "output_type": "stream",
       "stream": "stdout",
       "text": [
        " "
       ]
      },
      {
       "output_type": "stream",
       "stream": "stdout",
       "text": []
      },
      {
       "output_type": "stream",
       "stream": "stdout",
       "text": [
        "\"/Users/mic/.rbenv/versions/2.1.0/lib/ruby/gems/2.1.0/gems/mimemagic-0.2.1/lib\""
       ]
      },
      {
       "output_type": "stream",
       "stream": "stdout",
       "text": []
      },
      {
       "output_type": "stream",
       "stream": "stdout",
       "text": [
        ","
       ]
      },
      {
       "output_type": "stream",
       "stream": "stdout",
       "text": [
        "\n"
       ]
      },
      {
       "output_type": "stream",
       "stream": "stdout",
       "text": [
        " "
       ]
      },
      {
       "output_type": "stream",
       "stream": "stdout",
       "text": []
      },
      {
       "output_type": "stream",
       "stream": "stdout",
       "text": [
        "\"/Users/mic/.rbenv/versions/2.1.0/lib/ruby/gems/2.1.0/gems/iruby-0.1.13/lib\""
       ]
      },
      {
       "output_type": "stream",
       "stream": "stdout",
       "text": []
      },
      {
       "output_type": "stream",
       "stream": "stdout",
       "text": [
        ","
       ]
      },
      {
       "output_type": "stream",
       "stream": "stdout",
       "text": [
        "\n"
       ]
      },
      {
       "output_type": "stream",
       "stream": "stdout",
       "text": [
        " "
       ]
      },
      {
       "output_type": "stream",
       "stream": "stdout",
       "text": []
      },
      {
       "output_type": "stream",
       "stream": "stdout",
       "text": [
        "\"/Users/mic/.rbenv/versions/2.1.0/lib/ruby/gems/2.1.0/extensions/x86_64-darwin-13/2.1.0-static/ffi-1.9.6\""
       ]
      },
      {
       "output_type": "stream",
       "stream": "stdout",
       "text": []
      },
      {
       "output_type": "stream",
       "stream": "stdout",
       "text": [
        ","
       ]
      },
      {
       "output_type": "stream",
       "stream": "stdout",
       "text": [
        "\n"
       ]
      },
      {
       "output_type": "stream",
       "stream": "stdout",
       "text": [
        " "
       ]
      },
      {
       "output_type": "stream",
       "stream": "stdout",
       "text": []
      },
      {
       "output_type": "stream",
       "stream": "stdout",
       "text": [
        "\"/Users/mic/.rbenv/versions/2.1.0/lib/ruby/gems/2.1.0/gems/ffi-1.9.6/lib\""
       ]
      },
      {
       "output_type": "stream",
       "stream": "stdout",
       "text": []
      },
      {
       "output_type": "stream",
       "stream": "stdout",
       "text": [
        ","
       ]
      },
      {
       "output_type": "stream",
       "stream": "stdout",
       "text": [
        "\n"
       ]
      },
      {
       "output_type": "stream",
       "stream": "stdout",
       "text": [
        " "
       ]
      },
      {
       "output_type": "stream",
       "stream": "stdout",
       "text": []
      },
      {
       "output_type": "stream",
       "stream": "stdout",
       "text": [
        "\"/Users/mic/.rbenv/versions/2.1.0/lib/ruby/gems/2.1.0/extensions/x86_64-darwin-13/2.1.0-static/yajl-ruby-1.2.1\""
       ]
      },
      {
       "output_type": "stream",
       "stream": "stdout",
       "text": []
      },
      {
       "output_type": "stream",
       "stream": "stdout",
       "text": [
        ","
       ]
      },
      {
       "output_type": "stream",
       "stream": "stdout",
       "text": [
        "\n"
       ]
      },
      {
       "output_type": "stream",
       "stream": "stdout",
       "text": [
        " "
       ]
      },
      {
       "output_type": "stream",
       "stream": "stdout",
       "text": []
      },
      {
       "output_type": "stream",
       "stream": "stdout",
       "text": [
        "\"/Users/mic/.rbenv/versions/2.1.0/lib/ruby/gems/2.1.0/gems/yajl-ruby-1.2.1/lib\""
       ]
      },
      {
       "output_type": "stream",
       "stream": "stdout",
       "text": []
      },
      {
       "output_type": "stream",
       "stream": "stdout",
       "text": [
        ","
       ]
      },
      {
       "output_type": "stream",
       "stream": "stdout",
       "text": [
        "\n"
       ]
      },
      {
       "output_type": "stream",
       "stream": "stdout",
       "text": [
        " "
       ]
      },
      {
       "output_type": "stream",
       "stream": "stdout",
       "text": []
      },
      {
       "output_type": "stream",
       "stream": "stdout",
       "text": [
        "\"/Users/mic/.rbenv/versions/2.1.0/lib/ruby/gems/2.1.0/gems/coderay-1.1.0/lib\""
       ]
      },
      {
       "output_type": "stream",
       "stream": "stdout",
       "text": []
      },
      {
       "output_type": "stream",
       "stream": "stdout",
       "text": [
        ","
       ]
      },
      {
       "output_type": "stream",
       "stream": "stdout",
       "text": [
        "\n"
       ]
      },
      {
       "output_type": "stream",
       "stream": "stdout",
       "text": [
        " "
       ]
      },
      {
       "output_type": "stream",
       "stream": "stdout",
       "text": []
      },
      {
       "output_type": "stream",
       "stream": "stdout",
       "text": [
        "\"/Users/mic/.rbenv/versions/2.1.0/lib/ruby/gems/2.1.0/gems/method_source-0.8.2/lib\""
       ]
      },
      {
       "output_type": "stream",
       "stream": "stdout",
       "text": []
      },
      {
       "output_type": "stream",
       "stream": "stdout",
       "text": [
        ","
       ]
      },
      {
       "output_type": "stream",
       "stream": "stdout",
       "text": [
        "\n"
       ]
      },
      {
       "output_type": "stream",
       "stream": "stdout",
       "text": [
        " "
       ]
      },
      {
       "output_type": "stream",
       "stream": "stdout",
       "text": []
      },
      {
       "output_type": "stream",
       "stream": "stdout",
       "text": [
        "\"/Users/mic/.rbenv/versions/2.1.0/lib/ruby/gems/2.1.0/gems/pry-0.10.1/lib\""
       ]
      },
      {
       "output_type": "stream",
       "stream": "stdout",
       "text": []
      },
      {
       "output_type": "stream",
       "stream": "stdout",
       "text": [
        ","
       ]
      },
      {
       "output_type": "stream",
       "stream": "stdout",
       "text": [
        "\n"
       ]
      },
      {
       "output_type": "stream",
       "stream": "stdout",
       "text": [
        " "
       ]
      },
      {
       "output_type": "stream",
       "stream": "stdout",
       "text": []
      },
      {
       "output_type": "stream",
       "stream": "stdout",
       "text": [
        "\"/Users/mic/.rbenv/versions/2.1.0/lib/ruby/gems/2.1.0/gems/slop-3.6.0/lib\""
       ]
      },
      {
       "output_type": "stream",
       "stream": "stdout",
       "text": []
      },
      {
       "output_type": "stream",
       "stream": "stdout",
       "text": [
        ","
       ]
      },
      {
       "output_type": "stream",
       "stream": "stdout",
       "text": [
        "\n"
       ]
      },
      {
       "output_type": "stream",
       "stream": "stdout",
       "text": [
        " "
       ]
      },
      {
       "output_type": "stream",
       "stream": "stdout",
       "text": []
      },
      {
       "output_type": "stream",
       "stream": "stdout",
       "text": [
        "\"/Users/mic/.rbenv/versions/2.1.0/lib/ruby/gems/2.1.0/gems/columnize-0.9.0/lib\""
       ]
      },
      {
       "output_type": "stream",
       "stream": "stdout",
       "text": []
      },
      {
       "output_type": "stream",
       "stream": "stdout",
       "text": [
        ","
       ]
      },
      {
       "output_type": "stream",
       "stream": "stdout",
       "text": [
        "\n"
       ]
      },
      {
       "output_type": "stream",
       "stream": "stdout",
       "text": [
        " "
       ]
      },
      {
       "output_type": "stream",
       "stream": "stdout",
       "text": []
      },
      {
       "output_type": "stream",
       "stream": "stdout",
       "text": [
        "\"/Users/mic/.rbenv/versions/2.1.0/lib/ruby/gems/2.1.0/gems/debugger-linecache-1.2.0/lib\""
       ]
      },
      {
       "output_type": "stream",
       "stream": "stdout",
       "text": []
      },
      {
       "output_type": "stream",
       "stream": "stdout",
       "text": [
        ","
       ]
      },
      {
       "output_type": "stream",
       "stream": "stdout",
       "text": [
        "\n"
       ]
      },
      {
       "output_type": "stream",
       "stream": "stdout",
       "text": [
        " "
       ]
      },
      {
       "output_type": "stream",
       "stream": "stdout",
       "text": []
      },
      {
       "output_type": "stream",
       "stream": "stdout",
       "text": [
        "\"/Users/mic/.rbenv/versions/2.1.0/lib/ruby/gems/2.1.0/extensions/x86_64-darwin-13/2.1.0-static/byebug-3.5.1\""
       ]
      },
      {
       "output_type": "stream",
       "stream": "stdout",
       "text": []
      },
      {
       "output_type": "stream",
       "stream": "stdout",
       "text": [
        ","
       ]
      },
      {
       "output_type": "stream",
       "stream": "stdout",
       "text": [
        "\n"
       ]
      },
      {
       "output_type": "stream",
       "stream": "stdout",
       "text": [
        " "
       ]
      },
      {
       "output_type": "stream",
       "stream": "stdout",
       "text": []
      },
      {
       "output_type": "stream",
       "stream": "stdout",
       "text": [
        "\"/Users/mic/.rbenv/versions/2.1.0/lib/ruby/gems/2.1.0/gems/byebug-3.5.1/lib\""
       ]
      },
      {
       "output_type": "stream",
       "stream": "stdout",
       "text": []
      },
      {
       "output_type": "stream",
       "stream": "stdout",
       "text": [
        ","
       ]
      },
      {
       "output_type": "stream",
       "stream": "stdout",
       "text": [
        "\n"
       ]
      },
      {
       "output_type": "stream",
       "stream": "stdout",
       "text": [
        " "
       ]
      },
      {
       "output_type": "stream",
       "stream": "stdout",
       "text": []
      },
      {
       "output_type": "stream",
       "stream": "stdout",
       "text": [
        "\"/Users/mic/.rbenv/versions/2.1.0/lib/ruby/gems/2.1.0/gems/pry-byebug-2.0.0/lib\""
       ]
      },
      {
       "output_type": "stream",
       "stream": "stdout",
       "text": []
      },
      {
       "output_type": "stream",
       "stream": "stdout",
       "text": [
        ","
       ]
      },
      {
       "output_type": "stream",
       "stream": "stdout",
       "text": [
        "\n"
       ]
      },
      {
       "output_type": "stream",
       "stream": "stdout",
       "text": [
        " "
       ]
      },
      {
       "output_type": "stream",
       "stream": "stdout",
       "text": []
      },
      {
       "output_type": "stream",
       "stream": "stdout",
       "text": [
        "\"/Users/mic/.rbenv/versions/2.1.0/lib/ruby/site_ruby/2.1.0\""
       ]
      },
      {
       "output_type": "stream",
       "stream": "stdout",
       "text": []
      },
      {
       "output_type": "stream",
       "stream": "stdout",
       "text": [
        ","
       ]
      },
      {
       "output_type": "stream",
       "stream": "stdout",
       "text": [
        "\n"
       ]
      },
      {
       "output_type": "stream",
       "stream": "stdout",
       "text": [
        " "
       ]
      },
      {
       "output_type": "stream",
       "stream": "stdout",
       "text": []
      },
      {
       "output_type": "stream",
       "stream": "stdout",
       "text": [
        "\"/Users/mic/.rbenv/versions/2.1.0/lib/ruby/site_ruby/2.1.0/x86_64-darwin13.0\""
       ]
      },
      {
       "output_type": "stream",
       "stream": "stdout",
       "text": []
      },
      {
       "output_type": "stream",
       "stream": "stdout",
       "text": [
        ","
       ]
      },
      {
       "output_type": "stream",
       "stream": "stdout",
       "text": [
        "\n"
       ]
      },
      {
       "output_type": "stream",
       "stream": "stdout",
       "text": [
        " "
       ]
      },
      {
       "output_type": "stream",
       "stream": "stdout",
       "text": []
      },
      {
       "output_type": "stream",
       "stream": "stdout",
       "text": [
        "\"/Users/mic/.rbenv/versions/2.1.0/lib/ruby/site_ruby\""
       ]
      },
      {
       "output_type": "stream",
       "stream": "stdout",
       "text": []
      },
      {
       "output_type": "stream",
       "stream": "stdout",
       "text": [
        ","
       ]
      },
      {
       "output_type": "stream",
       "stream": "stdout",
       "text": [
        "\n"
       ]
      },
      {
       "output_type": "stream",
       "stream": "stdout",
       "text": [
        " "
       ]
      },
      {
       "output_type": "stream",
       "stream": "stdout",
       "text": []
      },
      {
       "output_type": "stream",
       "stream": "stdout",
       "text": [
        "\"/Users/mic/.rbenv/versions/2.1.0/lib/ruby/vendor_ruby/2.1.0\""
       ]
      },
      {
       "output_type": "stream",
       "stream": "stdout",
       "text": []
      },
      {
       "output_type": "stream",
       "stream": "stdout",
       "text": [
        ","
       ]
      },
      {
       "output_type": "stream",
       "stream": "stdout",
       "text": [
        "\n"
       ]
      },
      {
       "output_type": "stream",
       "stream": "stdout",
       "text": [
        " "
       ]
      },
      {
       "output_type": "stream",
       "stream": "stdout",
       "text": []
      },
      {
       "output_type": "stream",
       "stream": "stdout",
       "text": [
        "\"/Users/mic/.rbenv/versions/2.1.0/lib/ruby/vendor_ruby/2.1.0/x86_64-darwin13.0\""
       ]
      },
      {
       "output_type": "stream",
       "stream": "stdout",
       "text": []
      },
      {
       "output_type": "stream",
       "stream": "stdout",
       "text": [
        ","
       ]
      },
      {
       "output_type": "stream",
       "stream": "stdout",
       "text": [
        "\n"
       ]
      },
      {
       "output_type": "stream",
       "stream": "stdout",
       "text": [
        " "
       ]
      },
      {
       "output_type": "stream",
       "stream": "stdout",
       "text": []
      },
      {
       "output_type": "stream",
       "stream": "stdout",
       "text": [
        "\"/Users/mic/.rbenv/versions/2.1.0/lib/ruby/vendor_ruby\""
       ]
      },
      {
       "output_type": "stream",
       "stream": "stdout",
       "text": []
      },
      {
       "output_type": "stream",
       "stream": "stdout",
       "text": [
        ","
       ]
      },
      {
       "output_type": "stream",
       "stream": "stdout",
       "text": [
        "\n"
       ]
      },
      {
       "output_type": "stream",
       "stream": "stdout",
       "text": [
        " "
       ]
      },
      {
       "output_type": "stream",
       "stream": "stdout",
       "text": []
      },
      {
       "output_type": "stream",
       "stream": "stdout",
       "text": [
        "\"/Users/mic/.rbenv/versions/2.1.0/lib/ruby/2.1.0\""
       ]
      },
      {
       "output_type": "stream",
       "stream": "stdout",
       "text": []
      },
      {
       "output_type": "stream",
       "stream": "stdout",
       "text": [
        ","
       ]
      },
      {
       "output_type": "stream",
       "stream": "stdout",
       "text": [
        "\n"
       ]
      },
      {
       "output_type": "stream",
       "stream": "stdout",
       "text": [
        " "
       ]
      },
      {
       "output_type": "stream",
       "stream": "stdout",
       "text": []
      },
      {
       "output_type": "stream",
       "stream": "stdout",
       "text": [
        "\"/Users/mic/.rbenv/versions/2.1.0/lib/ruby/2.1.0/x86_64-darwin13.0\""
       ]
      },
      {
       "output_type": "stream",
       "stream": "stdout",
       "text": []
      },
      {
       "output_type": "stream",
       "stream": "stdout",
       "text": [
        "]"
       ]
      },
      {
       "output_type": "stream",
       "stream": "stdout",
       "text": []
      },
      {
       "output_type": "stream",
       "stream": "stdout",
       "text": [
        "\n"
       ]
      },
      {
       "metadata": {},
       "output_type": "pyout",
       "prompt_number": 4,
       "text": [
        "[\"/Users/mic/.rbenv/versions/2.1.0/lib/ruby/gems/2.1.0/gems/iruby-0.1.13/bin/../lib\", \"/Users/mic/.rbenv/versions/2.1.0/lib/ruby/gems/2.1.0/extensions/x86_64-darwin-13/2.1.0-static/bond-0.5.1\", \"/Users/mic/.rbenv/versions/2.1.0/lib/ruby/gems/2.1.0/gems/bond-0.5.1/lib\", \"/Users/mic/.rbenv/versions/2.1.0/lib/ruby/gems/2.1.0/gems/ffi-rzmq-core-1.0.3/lib\", \"/Users/mic/.rbenv/versions/2.1.0/lib/ruby/gems/2.1.0/gems/ffi-rzmq-2.0.1/lib\", \"/Users/mic/.rbenv/versions/2.1.0/lib/ruby/gems/2.1.0/gems/multi_json-1.10.1/lib\", \"/Users/mic/.rbenv/versions/2.1.0/lib/ruby/gems/2.1.0/gems/mimemagic-0.2.1/lib\", \"/Users/mic/.rbenv/versions/2.1.0/lib/ruby/gems/2.1.0/gems/iruby-0.1.13/lib\", \"/Users/mic/.rbenv/versions/2.1.0/lib/ruby/gems/2.1.0/extensions/x86_64-darwin-13/2.1.0-static/ffi-1.9.6\", \"/Users/mic/.rbenv/versions/2.1.0/lib/ruby/gems/2.1.0/gems/ffi-1.9.6/lib\", \"/Users/mic/.rbenv/versions/2.1.0/lib/ruby/gems/2.1.0/extensions/x86_64-darwin-13/2.1.0-static/yajl-ruby-1.2.1\", \"/Users/mic/.rbenv/versions/2.1.0/lib/ruby/gems/2.1.0/gems/yajl-ruby-1.2.1/lib\", \"/Users/mic/.rbenv/versions/2.1.0/lib/ruby/gems/2.1.0/gems/coderay-1.1.0/lib\", \"/Users/mic/.rbenv/versions/2.1.0/lib/ruby/gems/2.1.0/gems/method_source-0.8.2/lib\", \"/Users/mic/.rbenv/versions/2.1.0/lib/ruby/gems/2.1.0/gems/pry-0.10.1/lib\", \"/Users/mic/.rbenv/versions/2.1.0/lib/ruby/gems/2.1.0/gems/slop-3.6.0/lib\", \"/Users/mic/.rbenv/versions/2.1.0/lib/ruby/gems/2.1.0/gems/columnize-0.9.0/lib\", \"/Users/mic/.rbenv/versions/2.1.0/lib/ruby/gems/2.1.0/gems/debugger-linecache-1.2.0/lib\", \"/Users/mic/.rbenv/versions/2.1.0/lib/ruby/gems/2.1.0/extensions/x86_64-darwin-13/2.1.0-static/byebug-3.5.1\", \"/Users/mic/.rbenv/versions/2.1.0/lib/ruby/gems/2.1.0/gems/byebug-3.5.1/lib\", \"/Users/mic/.rbenv/versions/2.1.0/lib/ruby/gems/2.1.0/gems/pry-byebug-2.0.0/lib\", \"/Users/mic/.rbenv/versions/2.1.0/lib/ruby/site_ruby/2.1.0\", \"/Users/mic/.rbenv/versions/2.1.0/lib/ruby/site_ruby/2.1.0/x86_64-darwin13.0\", \"/Users/mic/.rbenv/versions/2.1.0/lib/ruby/site_ruby\", \"/Users/mic/.rbenv/versions/2.1.0/lib/ruby/vendor_ruby/2.1.0\", \"/Users/mic/.rbenv/versions/2.1.0/lib/ruby/vendor_ruby/2.1.0/x86_64-darwin13.0\", \"/Users/mic/.rbenv/versions/2.1.0/lib/ruby/vendor_ruby\", \"/Users/mic/.rbenv/versions/2.1.0/lib/ruby/2.1.0\", \"/Users/mic/.rbenv/versions/2.1.0/lib/ruby/2.1.0/x86_64-darwin13.0\"]"
       ]
      }
     ],
     "prompt_number": 4
    },
    {
     "cell_type": "code",
     "collapsed": false,
     "input": [
      "$LOADED_FEATURES"
     ],
     "language": "python",
     "metadata": {},
     "outputs": [
      {
       "metadata": {},
       "output_type": "pyout",
       "prompt_number": 5,
       "text": [
        "[\"enumerator.so\", \"/Users/mic/.rbenv/versions/2.1.0/lib/ruby/2.1.0/x86_64-darwin13.0/enc/encdb.bundle\", \"/Users/mic/.rbenv/versions/2.1.0/lib/ruby/2.1.0/x86_64-darwin13.0/enc/trans/transdb.bundle\", \"/Users/mic/.rbenv/versions/2.1.0/lib/ruby/2.1.0/x86_64-darwin13.0/rbconfig.rb\", \"/Users/mic/.rbenv/versions/2.1.0/lib/ruby/site_ruby/2.1.0/rubygems/compatibility.rb\", \"/Users/mic/.rbenv/versions/2.1.0/lib/ruby/site_ruby/2.1.0/rubygems/defaults.rb\", \"/Users/mic/.rbenv/versions/2.1.0/lib/ruby/site_ruby/2.1.0/rubygems/deprecate.rb\", \"/Users/mic/.rbenv/versions/2.1.0/lib/ruby/site_ruby/2.1.0/rubygems/errors.rb\", \"/Users/mic/.rbenv/versions/2.1.0/lib/ruby/site_ruby/2.1.0/rubygems/version.rb\", \"/Users/mic/.rbenv/versions/2.1.0/lib/ruby/site_ruby/2.1.0/rubygems/requirement.rb\", \"/Users/mic/.rbenv/versions/2.1.0/lib/ruby/site_ruby/2.1.0/rubygems/platform.rb\", \"/Users/mic/.rbenv/versions/2.1.0/lib/ruby/site_ruby/2.1.0/rubygems/basic_specification.rb\", \"/Users/mic/.rbenv/versions/2.1.0/lib/ruby/site_ruby/2.1.0/rubygems/stub_specification.rb\", \"/Users/mic/.rbenv/versions/2.1.0/lib/ruby/site_ruby/2.1.0/rubygems/util/stringio.rb\", \"/Users/mic/.rbenv/versions/2.1.0/lib/ruby/site_ruby/2.1.0/rubygems/specification.rb\", \"/Users/mic/.rbenv/versions/2.1.0/lib/ruby/site_ruby/2.1.0/rubygems/exceptions.rb\", \"/Users/mic/.rbenv/versions/2.1.0/lib/ruby/site_ruby/2.1.0/rubygems/core_ext/kernel_gem.rb\", \"thread.rb\", \"/Users/mic/.rbenv/versions/2.1.0/lib/ruby/2.1.0/x86_64-darwin13.0/thread.bundle\", \"/Users/mic/.rbenv/versions/2.1.0/lib/ruby/2.1.0/monitor.rb\", \"/Users/mic/.rbenv/versions/2.1.0/lib/ruby/site_ruby/2.1.0/rubygems/core_ext/kernel_require.rb\", \"/Users/mic/.rbenv/versions/2.1.0/lib/ruby/site_ruby/2.1.0/rubygems.rb\", \"/Users/mic/.rbenv/versions/2.1.0/lib/ruby/site_ruby/2.1.0/rubygems/dependency.rb\", \"/Users/mic/.rbenv/versions/2.1.0/lib/ruby/site_ruby/2.1.0/rubygems/path_support.rb\", \"/Users/mic/.rbenv/versions/2.1.0/lib/ruby/2.1.0/shellwords.rb\", \"/Users/mic/.rbenv/versions/2.1.0/lib/ruby/2.1.0/x86_64-darwin13.0/etc.bundle\", \"/Users/mic/.rbenv/versions/2.1.0/lib/ruby/2.1.0/fileutils.rb\", \"/Users/mic/.rbenv/versions/2.1.0/lib/ruby/gems/2.1.0/gems/iruby-0.1.13/lib/iruby/command.rb\", \"/Users/mic/.rbenv/versions/2.1.0/lib/ruby/gems/2.1.0/extensions/x86_64-darwin-13/2.1.0-static/ffi-1.9.6/ffi_c.bundle\", \"/Users/mic/.rbenv/versions/2.1.0/lib/ruby/gems/2.1.0/gems/ffi-1.9.6/lib/ffi/platform.rb\", \"/Users/mic/.rbenv/versions/2.1.0/lib/ruby/gems/2.1.0/gems/ffi-1.9.6/lib/ffi/types.rb\", \"/Users/mic/.rbenv/versions/2.1.0/lib/ruby/gems/2.1.0/gems/ffi-1.9.6/lib/ffi/library.rb\", \"/Users/mic/.rbenv/versions/2.1.0/lib/ruby/gems/2.1.0/gems/ffi-1.9.6/lib/ffi/errno.rb\", \"/Users/mic/.rbenv/versions/2.1.0/lib/ruby/gems/2.1.0/gems/ffi-1.9.6/lib/ffi/pointer.rb\", \"/Users/mic/.rbenv/versions/2.1.0/lib/ruby/gems/2.1.0/gems/ffi-1.9.6/lib/ffi/memorypointer.rb\", \"/Users/mic/.rbenv/versions/2.1.0/lib/ruby/gems/2.1.0/gems/ffi-1.9.6/lib/ffi/struct_layout_builder.rb\", \"/Users/mic/.rbenv/versions/2.1.0/lib/ruby/gems/2.1.0/gems/ffi-1.9.6/lib/ffi/struct.rb\", \"/Users/mic/.rbenv/versions/2.1.0/lib/ruby/gems/2.1.0/gems/ffi-1.9.6/lib/ffi/union.rb\", \"/Users/mic/.rbenv/versions/2.1.0/lib/ruby/gems/2.1.0/gems/ffi-1.9.6/lib/ffi/managedstruct.rb\", \"/Users/mic/.rbenv/versions/2.1.0/lib/ruby/gems/2.1.0/gems/ffi-1.9.6/lib/ffi/callback.rb\", \"/Users/mic/.rbenv/versions/2.1.0/lib/ruby/gems/2.1.0/gems/ffi-1.9.6/lib/ffi/io.rb\", \"/Users/mic/.rbenv/versions/2.1.0/lib/ruby/gems/2.1.0/gems/ffi-1.9.6/lib/ffi/autopointer.rb\", \"/Users/mic/.rbenv/versions/2.1.0/lib/ruby/gems/2.1.0/gems/ffi-1.9.6/lib/ffi/variadic.rb\", \"/Users/mic/.rbenv/versions/2.1.0/lib/ruby/gems/2.1.0/gems/ffi-1.9.6/lib/ffi/enum.rb\", \"/Users/mic/.rbenv/versions/2.1.0/lib/ruby/gems/2.1.0/gems/ffi-1.9.6/lib/ffi/ffi.rb\", \"/Users/mic/.rbenv/versions/2.1.0/lib/ruby/gems/2.1.0/gems/ffi-1.9.6/lib/ffi.rb\", \"/Users/mic/.rbenv/versions/2.1.0/lib/ruby/gems/2.1.0/gems/ffi-rzmq-core-1.0.3/lib/ffi-rzmq-core/libc.rb\", \"/Users/mic/.rbenv/versions/2.1.0/lib/ruby/2.1.0/open3.rb\", \"/Users/mic/.rbenv/versions/2.1.0/lib/ruby/gems/2.1.0/gems/ffi-rzmq-core-1.0.3/lib/ffi-rzmq-core/libzmq.rb\", \"/Users/mic/.rbenv/versions/2.1.0/lib/ruby/gems/2.1.0/gems/ffi-rzmq-core-1.0.3/lib/ffi-rzmq-core/structures.rb\", \"/Users/mic/.rbenv/versions/2.1.0/lib/ruby/gems/2.1.0/gems/ffi-rzmq-core-1.0.3/lib/ffi-rzmq-core/utilities.rb\", \"/Users/mic/.rbenv/versions/2.1.0/lib/ruby/gems/2.1.0/gems/ffi-rzmq-core-1.0.3/lib/ffi-rzmq-core/constants.rb\", \"/Users/mic/.rbenv/versions/2.1.0/lib/ruby/gems/2.1.0/gems/ffi-rzmq-core-1.0.3/lib/ffi-rzmq-core/libzmq4.rb\", \"/Users/mic/.rbenv/versions/2.1.0/lib/ruby/gems/2.1.0/gems/ffi-rzmq-core-1.0.3/lib/ffi-rzmq-core.rb\", \"/Users/mic/.rbenv/versions/2.1.0/lib/ruby/gems/2.1.0/gems/ffi-rzmq-2.0.1/lib/ffi-rzmq/util.rb\", \"/Users/mic/.rbenv/versions/2.1.0/lib/ruby/gems/2.1.0/gems/ffi-rzmq-2.0.1/lib/ffi-rzmq/exceptions.rb\", \"/Users/mic/.rbenv/versions/2.1.0/lib/ruby/gems/2.1.0/gems/ffi-rzmq-2.0.1/lib/ffi-rzmq/context.rb\", \"/Users/mic/.rbenv/versions/2.1.0/lib/ruby/gems/2.1.0/gems/ffi-rzmq-2.0.1/lib/ffi-rzmq/message.rb\", \"/Users/mic/.rbenv/versions/2.1.0/lib/ruby/gems/2.1.0/gems/ffi-rzmq-2.0.1/lib/ffi-rzmq/socket.rb\", \"/Users/mic/.rbenv/versions/2.1.0/lib/ruby/2.1.0/forwardable.rb\", \"/Users/mic/.rbenv/versions/2.1.0/lib/ruby/2.1.0/ostruct.rb\", \"/Users/mic/.rbenv/versions/2.1.0/lib/ruby/gems/2.1.0/gems/ffi-rzmq-2.0.1/lib/ffi-rzmq/poll_items.rb\", \"/Users/mic/.rbenv/versions/2.1.0/lib/ruby/gems/2.1.0/gems/ffi-rzmq-2.0.1/lib/io_extensions.rb\", \"/Users/mic/.rbenv/versions/2.1.0/lib/ruby/gems/2.1.0/gems/ffi-rzmq-2.0.1/lib/ffi-rzmq/poll_item.rb\", \"/Users/mic/.rbenv/versions/2.1.0/lib/ruby/gems/2.1.0/gems/ffi-rzmq-2.0.1/lib/ffi-rzmq/poll.rb\", \"/Users/mic/.rbenv/versions/2.1.0/lib/ruby/gems/2.1.0/gems/ffi-rzmq-2.0.1/lib/ffi-rzmq/device.rb\", \"/Users/mic/.rbenv/versions/2.1.0/lib/ruby/gems/2.1.0/gems/ffi-rzmq-2.0.1/lib/ffi-rzmq.rb\", \"/Users/mic/.rbenv/versions/2.1.0/lib/ruby/gems/2.1.0/gems/mimemagic-0.2.1/lib/mimemagic/tables.rb\", \"/Users/mic/.rbenv/versions/2.1.0/lib/ruby/gems/2.1.0/gems/mimemagic-0.2.1/lib/mimemagic/version.rb\", \"/Users/mic/.rbenv/versions/2.1.0/lib/ruby/gems/2.1.0/gems/mimemagic-0.2.1/lib/mimemagic.rb\", \"/Users/mic/.rbenv/versions/2.1.0/lib/ruby/gems/2.1.0/gems/multi_json-1.10.1/lib/multi_json/options.rb\", \"/Users/mic/.rbenv/versions/2.1.0/lib/ruby/gems/2.1.0/gems/multi_json-1.10.1/lib/multi_json/version.rb\", \"/Users/mic/.rbenv/versions/2.1.0/lib/ruby/gems/2.1.0/gems/multi_json-1.10.1/lib/multi_json/adapter_error.rb\", \"/Users/mic/.rbenv/versions/2.1.0/lib/ruby/gems/2.1.0/gems/multi_json-1.10.1/lib/multi_json/parse_error.rb\", \"/Users/mic/.rbenv/versions/2.1.0/lib/ruby/gems/2.1.0/gems/multi_json-1.10.1/lib/multi_json.rb\", \"/Users/mic/.rbenv/versions/2.1.0/lib/ruby/gems/2.1.0/gems/bond-0.5.1/lib/bond/m.rb\", \"/Users/mic/.rbenv/versions/2.1.0/lib/ruby/gems/2.1.0/gems/bond-0.5.1/lib/bond/version.rb\", \"/Users/mic/.rbenv/versions/2.1.0/lib/ruby/gems/2.1.0/gems/bond-0.5.1/lib/bond/readline.rb\", \"/Users/mic/.rbenv/versions/2.1.0/lib/ruby/gems/2.1.0/gems/bond-0.5.1/lib/bond/readlines/rawline.rb\", \"/Users/mic/.rbenv/versions/2.1.0/lib/ruby/gems/2.1.0/gems/bond-0.5.1/lib/bond/readlines/ruby.rb\", \"/Users/mic/.rbenv/versions/2.1.0/lib/ruby/gems/2.1.0/gems/bond-0.5.1/lib/bond/readlines/jruby.rb\", \"/Users/mic/.rbenv/versions/2.1.0/lib/ruby/gems/2.1.0/gems/bond-0.5.1/lib/bond/agent.rb\", \"/Users/mic/.rbenv/versions/2.1.0/lib/ruby/gems/2.1.0/gems/bond-0.5.1/lib/bond/search.rb\", \"/Users/mic/.rbenv/versions/2.1.0/lib/ruby/gems/2.1.0/gems/bond-0.5.1/lib/bond/input.rb\", \"/Users/mic/.rbenv/versions/2.1.0/lib/ruby/gems/2.1.0/gems/bond-0.5.1/lib/bond/rc.rb\", \"/Users/mic/.rbenv/versions/2.1.0/lib/ruby/gems/2.1.0/gems/bond-0.5.1/lib/bond/mission.rb\", \"/Users/mic/.rbenv/versions/2.1.0/lib/ruby/gems/2.1.0/gems/bond-0.5.1/lib/bond/missions/default_mission.rb\", \"/Users/mic/.rbenv/versions/2.1.0/lib/ruby/gems/2.1.0/gems/bond-0.5.1/lib/bond/missions/method_mission.rb\", \"/Users/mic/.rbenv/versions/2.1.0/lib/ruby/gems/2.1.0/gems/bond-0.5.1/lib/bond/missions/object_mission.rb\", \"/Users/mic/.rbenv/versions/2.1.0/lib/ruby/gems/2.1.0/gems/bond-0.5.1/lib/bond/missions/anywhere_mission.rb\", \"/Users/mic/.rbenv/versions/2.1.0/lib/ruby/gems/2.1.0/gems/bond-0.5.1/lib/bond/missions/operator_method_mission.rb\", \"/Users/mic/.rbenv/versions/2.1.0/lib/ruby/gems/2.1.0/gems/bond-0.5.1/lib/bond.rb\", \"/Users/mic/.rbenv/versions/2.1.0/lib/ruby/2.1.0/x86_64-darwin13.0/digest.bundle\", \"/Users/mic/.rbenv/versions/2.1.0/lib/ruby/2.1.0/digest.rb\", \"/Users/mic/.rbenv/versions/2.1.0/lib/ruby/2.1.0/x86_64-darwin13.0/openssl.bundle\", \"/Users/mic/.rbenv/versions/2.1.0/lib/ruby/2.1.0/openssl/bn.rb\", \"/Users/mic/.rbenv/versions/2.1.0/lib/ruby/2.1.0/openssl/cipher.rb\", \"/Users/mic/.rbenv/versions/2.1.0/lib/ruby/2.1.0/x86_64-darwin13.0/stringio.bundle\", \"/Users/mic/.rbenv/versions/2.1.0/lib/ruby/2.1.0/openssl/config.rb\", \"/Users/mic/.rbenv/versions/2.1.0/lib/ruby/2.1.0/openssl/digest.rb\", \"/Users/mic/.rbenv/versions/2.1.0/lib/ruby/2.1.0/openssl/x509.rb\", \"/Users/mic/.rbenv/versions/2.1.0/lib/ruby/2.1.0/openssl/buffering.rb\", \"/Users/mic/.rbenv/versions/2.1.0/lib/ruby/2.1.0/x86_64-darwin13.0/fcntl.bundle\", \"/Users/mic/.rbenv/versions/2.1.0/lib/ruby/2.1.0/openssl/ssl.rb\", \"/Users/mic/.rbenv/versions/2.1.0/lib/ruby/2.1.0/openssl.rb\", \"/Users/mic/.rbenv/versions/2.1.0/lib/ruby/2.1.0/securerandom.rb\", \"/Users/mic/.rbenv/versions/2.1.0/lib/ruby/2.1.0/delegate.rb\", \"/Users/mic/.rbenv/versions/2.1.0/lib/ruby/2.1.0/tmpdir.rb\", \"/Users/mic/.rbenv/versions/2.1.0/lib/ruby/2.1.0/tempfile.rb\", \"/Users/mic/.rbenv/versions/2.1.0/lib/ruby/2.1.0/set.rb\", \"/Users/mic/.rbenv/versions/2.1.0/lib/ruby/gems/2.1.0/gems/iruby-0.1.13/lib/iruby/version.rb\", \"/Users/mic/.rbenv/versions/2.1.0/lib/ruby/gems/2.1.0/gems/iruby-0.1.13/lib/iruby/kernel.rb\", \"/Users/mic/.rbenv/versions/2.1.0/lib/ruby/gems/2.1.0/gems/iruby-0.1.13/lib/iruby/backend.rb\", \"/Users/mic/.rbenv/versions/2.1.0/lib/ruby/gems/2.1.0/gems/iruby-0.1.13/lib/iruby/session.rb\", \"/Users/mic/.rbenv/versions/2.1.0/lib/ruby/gems/2.1.0/gems/iruby-0.1.13/lib/iruby/ostream.rb\", \"/Users/mic/.rbenv/versions/2.1.0/lib/ruby/gems/2.1.0/gems/iruby-0.1.13/lib/iruby/formatter.rb\", \"/Users/mic/.rbenv/versions/2.1.0/lib/ruby/gems/2.1.0/gems/iruby-0.1.13/lib/iruby/utils.rb\", \"/Users/mic/.rbenv/versions/2.1.0/lib/ruby/gems/2.1.0/gems/iruby-0.1.13/lib/iruby/display.rb\", \"/Users/mic/.rbenv/versions/2.1.0/lib/ruby/gems/2.1.0/gems/iruby-0.1.13/lib/iruby.rb\", \"/Users/mic/.rbenv/versions/2.1.0/lib/ruby/gems/2.1.0/extensions/x86_64-darwin-13/2.1.0-static/yajl-ruby-1.2.1/yajl/yajl.bundle\", \"/Users/mic/.rbenv/versions/2.1.0/lib/ruby/gems/2.1.0/gems/yajl-ruby-1.2.1/lib/yajl.rb\", \"/Users/mic/.rbenv/versions/2.1.0/lib/ruby/2.1.0/singleton.rb\", \"/Users/mic/.rbenv/versions/2.1.0/lib/ruby/gems/2.1.0/gems/multi_json-1.10.1/lib/multi_json/adapter.rb\", \"/Users/mic/.rbenv/versions/2.1.0/lib/ruby/gems/2.1.0/gems/multi_json-1.10.1/lib/multi_json/adapters/yajl.rb\", \"/Users/mic/.rbenv/versions/2.1.0/lib/ruby/2.1.0/prettyprint.rb\", \"/Users/mic/.rbenv/versions/2.1.0/lib/ruby/2.1.0/pp.rb\", \"/Users/mic/.rbenv/versions/2.1.0/lib/ruby/gems/2.1.0/gems/pry-0.10.1/lib/pry/input_lock.rb\", \"/Users/mic/.rbenv/versions/2.1.0/lib/ruby/gems/2.1.0/gems/pry-0.10.1/lib/pry/exceptions.rb\", \"/Users/mic/.rbenv/versions/2.1.0/lib/ruby/gems/2.1.0/gems/pry-0.10.1/lib/pry/helpers/base_helpers.rb\", \"/Users/mic/.rbenv/versions/2.1.0/lib/ruby/gems/2.1.0/gems/pry-0.10.1/lib/pry/hooks.rb\", \"/Users/mic/.rbenv/versions/2.1.0/lib/ruby/gems/2.1.0/gems/method_source-0.8.2/lib/method_source/version.rb\", \"/Users/mic/.rbenv/versions/2.1.0/lib/ruby/gems/2.1.0/gems/method_source-0.8.2/lib/method_source/source_location.rb\", \"/Users/mic/.rbenv/versions/2.1.0/lib/ruby/gems/2.1.0/gems/method_source-0.8.2/lib/method_source/code_helpers.rb\", \"/Users/mic/.rbenv/versions/2.1.0/lib/ruby/gems/2.1.0/gems/method_source-0.8.2/lib/method_source.rb\", \"/Users/mic/.rbenv/versions/2.1.0/lib/ruby/gems/2.1.0/gems/coderay-1.1.0/lib/coderay/version.rb\", \"/Users/mic/.rbenv/versions/2.1.0/lib/ruby/gems/2.1.0/gems/coderay-1.1.0/lib/coderay.rb\", \"/Users/mic/.rbenv/versions/2.1.0/lib/ruby/gems/2.1.0/gems/slop-3.6.0/lib/slop/option.rb\", \"/Users/mic/.rbenv/versions/2.1.0/lib/ruby/gems/2.1.0/gems/slop-3.6.0/lib/slop/commands.rb\", \"/Users/mic/.rbenv/versions/2.1.0/lib/ruby/gems/2.1.0/gems/slop-3.6.0/lib/slop.rb\", \"/Users/mic/.rbenv/versions/2.1.0/lib/ruby/2.1.0/x86_64-darwin13.0/pathname.bundle\", \"/Users/mic/.rbenv/versions/2.1.0/lib/ruby/2.1.0/pathname.rb\", \"/Users/mic/.rbenv/versions/2.1.0/lib/ruby/gems/2.1.0/gems/pry-0.10.1/lib/pry/version.rb\", \"/Users/mic/.rbenv/versions/2.1.0/lib/ruby/gems/2.1.0/gems/pry-0.10.1/lib/pry/repl.rb\", \"/Users/mic/.rbenv/versions/2.1.0/lib/ruby/gems/2.1.0/gems/pry-0.10.1/lib/pry/rbx_path.rb\", \"/Users/mic/.rbenv/versions/2.1.0/lib/ruby/gems/2.1.0/gems/pry-0.10.1/lib/pry/code/loc.rb\", \"/Users/mic/.rbenv/versions/2.1.0/lib/ruby/gems/2.1.0/gems/pry-0.10.1/lib/pry/code/code_range.rb\", \"/Users/mic/.rbenv/versions/2.1.0/lib/ruby/gems/2.1.0/gems/pry-0.10.1/lib/pry/code/code_file.rb\", \"/Users/mic/.rbenv/versions/2.1.0/lib/ruby/gems/2.1.0/gems/pry-0.10.1/lib/pry/code.rb\", \"/Users/mic/.rbenv/versions/2.1.0/lib/ruby/gems/2.1.0/gems/pry-0.10.1/lib/pry/history_array.rb\", \"/Users/mic/.rbenv/versions/2.1.0/lib/ruby/gems/2.1.0/gems/pry-0.10.1/lib/pry/helpers/options_helpers.rb\", \"/Users/mic/.rbenv/versions/2.1.0/lib/ruby/gems/2.1.0/gems/pry-0.10.1/lib/pry/helpers/command_helpers.rb\", \"/Users/mic/.rbenv/versions/2.1.0/lib/ruby/gems/2.1.0/gems/pry-0.10.1/lib/pry/helpers/text.rb\", \"/Users/mic/.rbenv/versions/2.1.0/lib/ruby/gems/2.1.0/gems/pry-0.10.1/lib/pry/helpers/table.rb\", \"/Users/mic/.rbenv/versions/2.1.0/lib/ruby/gems/2.1.0/gems/pry-0.10.1/lib/pry/helpers.rb\", \"/Users/mic/.rbenv/versions/2.1.0/lib/ruby/gems/2.1.0/gems/pry-0.10.1/lib/pry/code_object.rb\", \"/Users/mic/.rbenv/versions/2.1.0/lib/ruby/gems/2.1.0/gems/pry-0.10.1/lib/pry/helpers/documentation_helpers.rb\", \"/Users/mic/.rbenv/versions/2.1.0/lib/ruby/gems/2.1.0/gems/pry-0.10.1/lib/pry/method/weird_method_locator.rb\", \"/Users/mic/.rbenv/versions/2.1.0/lib/ruby/gems/2.1.0/gems/pry-0.10.1/lib/pry/method/disowned.rb\", \"/Users/mic/.rbenv/versions/2.1.0/lib/ruby/gems/2.1.0/gems/pry-0.10.1/lib/pry/method/patcher.rb\", \"/Users/mic/.rbenv/versions/2.1.0/lib/ruby/gems/2.1.0/gems/pry-0.10.1/lib/pry/method.rb\", \"/Users/mic/.rbenv/versions/2.1.0/lib/ruby/gems/2.1.0/gems/pry-0.10.1/lib/pry/module_candidate.rb\", \"/Users/mic/.rbenv/versions/2.1.0/lib/ruby/gems/2.1.0/gems/pry-0.10.1/lib/pry/wrapped_module.rb\", \"/Users/mic/.rbenv/versions/2.1.0/lib/ruby/gems/2.1.0/gems/pry-0.10.1/lib/pry/history.rb\", \"/Users/mic/.rbenv/versions/2.1.0/lib/ruby/gems/2.1.0/gems/pry-0.10.1/lib/pry/command.rb\", \"/Users/mic/.rbenv/versions/2.1.0/lib/ruby/gems/2.1.0/gems/pry-0.10.1/lib/pry/command_set.rb\", \"/Users/mic/.rbenv/versions/2.1.0/lib/ruby/gems/2.1.0/gems/pry-0.10.1/lib/pry/commands/amend_line.rb\", \"/Users/mic/.rbenv/versions/2.1.0/lib/ruby/gems/2.1.0/gems/pry-0.10.1/lib/pry/commands/bang.rb\", \"/Users/mic/.rbenv/versions/2.1.0/lib/ruby/gems/2.1.0/gems/pry-0.10.1/lib/pry/commands/bang_pry.rb\", \"/Users/mic/.rbenv/versions/2.1.0/lib/ruby/gems/2.1.0/gems/pry-0.10.1/lib/pry/commands/cat/abstract_formatter.rb\", \"/Users/mic/.rbenv/versions/2.1.0/lib/ruby/gems/2.1.0/gems/pry-0.10.1/lib/pry/commands/cat/input_expression_formatter.rb\", \"/Users/mic/.rbenv/versions/2.1.0/lib/ruby/gems/2.1.0/gems/pry-0.10.1/lib/pry/commands/cat/exception_formatter.rb\", \"/Users/mic/.rbenv/versions/2.1.0/lib/ruby/gems/2.1.0/gems/pry-0.10.1/lib/pry/commands/cat/file_formatter.rb\", \"/Users/mic/.rbenv/versions/2.1.0/lib/ruby/gems/2.1.0/gems/pry-0.10.1/lib/pry/commands/cat.rb\", \"/Users/mic/.rbenv/versions/2.1.0/lib/ruby/gems/2.1.0/gems/pry-0.10.1/lib/pry/commands/cd.rb\", \"/Users/mic/.rbenv/versions/2.1.0/lib/ruby/gems/2.1.0/gems/pry-0.10.1/lib/pry/commands/change_inspector.rb\", \"/Users/mic/.rbenv/versions/2.1.0/lib/ruby/gems/2.1.0/gems/pry-0.10.1/lib/pry/commands/change_prompt.rb\", \"/Users/mic/.rbenv/versions/2.1.0/lib/ruby/gems/2.1.0/gems/pry-0.10.1/lib/pry/commands/code_collector.rb\", \"/Users/mic/.rbenv/versions/2.1.0/lib/ruby/gems/2.1.0/gems/pry-0.10.1/lib/pry/commands/disable_pry.rb\", \"/Users/mic/.rbenv/versions/2.1.0/lib/ruby/gems/2.1.0/gems/pry-0.10.1/lib/pry/commands/disabled_commands.rb\", \"/Users/mic/.rbenv/versions/2.1.0/lib/ruby/gems/2.1.0/gems/pry-0.10.1/lib/pry/commands/easter_eggs.rb\", \"/Users/mic/.rbenv/versions/2.1.0/lib/ruby/gems/2.1.0/gems/pry-0.10.1/lib/pry/commands/edit/exception_patcher.rb\", \"/Users/mic/.rbenv/versions/2.1.0/lib/ruby/gems/2.1.0/gems/pry-0.10.1/lib/pry/commands/edit/file_and_line_locator.rb\", \"/Users/mic/.rbenv/versions/2.1.0/lib/ruby/gems/2.1.0/gems/pry-0.10.1/lib/pry/commands/edit.rb\", \"/Users/mic/.rbenv/versions/2.1.0/lib/ruby/gems/2.1.0/gems/pry-0.10.1/lib/pry/commands/exit.rb\", \"/Users/mic/.rbenv/versions/2.1.0/lib/ruby/gems/2.1.0/gems/pry-0.10.1/lib/pry/commands/exit_all.rb\", \"/Users/mic/.rbenv/versions/2.1.0/lib/ruby/gems/2.1.0/gems/pry-0.10.1/lib/pry/commands/exit_program.rb\", \"/Users/mic/.rbenv/versions/2.1.0/lib/ruby/gems/2.1.0/gems/pry-0.10.1/lib/pry/commands/find_method.rb\", \"/Users/mic/.rbenv/versions/2.1.0/lib/ruby/gems/2.1.0/gems/pry-0.10.1/lib/pry/commands/fix_indent.rb\", \"/Users/mic/.rbenv/versions/2.1.0/lib/ruby/gems/2.1.0/gems/pry-0.10.1/lib/pry/commands/gem_cd.rb\", \"/Users/mic/.rbenv/versions/2.1.0/lib/ruby/gems/2.1.0/gems/pry-0.10.1/lib/pry/commands/gem_install.rb\", \"/Users/mic/.rbenv/versions/2.1.0/lib/ruby/gems/2.1.0/gems/pry-0.10.1/lib/pry/commands/gem_list.rb\", \"/Users/mic/.rbenv/versions/2.1.0/lib/ruby/gems/2.1.0/gems/pry-0.10.1/lib/pry/commands/gem_open.rb\", \"/Users/mic/.rbenv/versions/2.1.0/lib/ruby/gems/2.1.0/gems/pry-0.10.1/lib/pry/commands/gist.rb\", \"/Users/mic/.rbenv/versions/2.1.0/lib/ruby/gems/2.1.0/gems/pry-0.10.1/lib/pry/commands/help.rb\", \"/Users/mic/.rbenv/versions/2.1.0/lib/ruby/gems/2.1.0/gems/pry-0.10.1/lib/pry/commands/hist.rb\", \"/Users/mic/.rbenv/versions/2.1.0/lib/ruby/gems/2.1.0/gems/pry-0.10.1/lib/pry/commands/import_set.rb\", \"/Users/mic/.rbenv/versions/2.1.0/lib/ruby/gems/2.1.0/gems/pry-0.10.1/lib/pry/commands/install_command.rb\", \"/Users/mic/.rbenv/versions/2.1.0/lib/ruby/gems/2.1.0/gems/pry-0.10.1/lib/pry/commands/jump_to.rb\", \"/Users/mic/.rbenv/versions/2.1.0/lib/ruby/gems/2.1.0/gems/pry-0.10.1/lib/pry/commands/list_inspectors.rb\", \"/Users/mic/.rbenv/versions/2.1.0/lib/ruby/gems/2.1.0/gems/pry-0.10.1/lib/pry/commands/list_prompts.rb\", \"/Users/mic/.rbenv/versions/2.1.0/lib/ruby/gems/2.1.0/gems/pry-0.10.1/lib/pry/commands/ls/grep.rb\", \"/Users/mic/.rbenv/versions/2.1.0/lib/ruby/gems/2.1.0/gems/pry-0.10.1/lib/pry/commands/ls/formatter.rb\", \"/Users/mic/.rbenv/versions/2.1.0/lib/ruby/gems/2.1.0/gems/pry-0.10.1/lib/pry/commands/ls/globals.rb\", \"/Users/mic/.rbenv/versions/2.1.0/lib/ruby/gems/2.1.0/gems/pry-0.10.1/lib/pry/commands/ls/interrogatable.rb\", \"/Users/mic/.rbenv/versions/2.1.0/lib/ruby/gems/2.1.0/gems/pry-0.10.1/lib/pry/commands/ls/constants.rb\", \"/Users/mic/.rbenv/versions/2.1.0/lib/ruby/gems/2.1.0/gems/pry-0.10.1/lib/pry/commands/ls/jruby_hacks.rb\", \"/Users/mic/.rbenv/versions/2.1.0/lib/ruby/gems/2.1.0/gems/pry-0.10.1/lib/pry/commands/ls/methods_helper.rb\", \"/Users/mic/.rbenv/versions/2.1.0/lib/ruby/gems/2.1.0/gems/pry-0.10.1/lib/pry/commands/ls/methods.rb\", \"/Users/mic/.rbenv/versions/2.1.0/lib/ruby/gems/2.1.0/gems/pry-0.10.1/lib/pry/commands/ls/self_methods.rb\", \"/Users/mic/.rbenv/versions/2.1.0/lib/ruby/gems/2.1.0/gems/pry-0.10.1/lib/pry/commands/ls/instance_vars.rb\", \"/Users/mic/.rbenv/versions/2.1.0/lib/ruby/gems/2.1.0/gems/pry-0.10.1/lib/pry/commands/ls/local_names.rb\", \"/Users/mic/.rbenv/versions/2.1.0/lib/ruby/gems/2.1.0/gems/pry-0.10.1/lib/pry/commands/ls/local_vars.rb\", \"/Users/mic/.rbenv/versions/2.1.0/lib/ruby/gems/2.1.0/gems/pry-0.10.1/lib/pry/commands/ls/ls_entity.rb\", \"/Users/mic/.rbenv/versions/2.1.0/lib/ruby/gems/2.1.0/gems/pry-0.10.1/lib/pry/commands/ls.rb\", \"/Users/mic/.rbenv/versions/2.1.0/lib/ruby/gems/2.1.0/gems/pry-0.10.1/lib/pry/commands/nesting.rb\", \"/Users/mic/.rbenv/versions/2.1.0/lib/ruby/gems/2.1.0/gems/pry-0.10.1/lib/pry/commands/play.rb\", \"/Users/mic/.rbenv/versions/2.1.0/lib/ruby/gems/2.1.0/gems/pry-0.10.1/lib/pry/commands/pry_backtrace.rb\", \"/Users/mic/.rbenv/versions/2.1.0/lib/ruby/gems/2.1.0/gems/pry-0.10.1/lib/pry/commands/pry_version.rb\", \"/Users/mic/.rbenv/versions/2.1.0/lib/ruby/gems/2.1.0/gems/pry-0.10.1/lib/pry/commands/raise_up.rb\", \"/Users/mic/.rbenv/versions/2.1.0/lib/ruby/gems/2.1.0/gems/pry-0.10.1/lib/pry/commands/reload_code.rb\", \"/Users/mic/.rbenv/versions/2.1.0/lib/ruby/gems/2.1.0/gems/pry-0.10.1/lib/pry/commands/reset.rb\", \"/Users/mic/.rbenv/versions/2.1.0/lib/ruby/gems/2.1.0/gems/pry-0.10.1/lib/pry/commands/ri.rb\", \"/Users/mic/.rbenv/versions/2.1.0/lib/ruby/gems/2.1.0/gems/pry-0.10.1/lib/pry/commands/save_file.rb\", \"/Users/mic/.rbenv/versions/2.1.0/lib/ruby/gems/2.1.0/gems/pry-0.10.1/lib/pry/commands/shell_command.rb\", \"/Users/mic/.rbenv/versions/2.1.0/lib/ruby/gems/2.1.0/gems/pry-0.10.1/lib/pry/commands/shell_mode.rb\", \"/Users/mic/.rbenv/versions/2.1.0/lib/ruby/gems/2.1.0/gems/pry-0.10.1/lib/pry/commands/show_info.rb\", \"/Users/mic/.rbenv/versions/2.1.0/lib/ruby/gems/2.1.0/gems/pry-0.10.1/lib/pry/commands/show_doc.rb\", \"/Users/mic/.rbenv/versions/2.1.0/lib/ruby/gems/2.1.0/gems/pry-0.10.1/lib/pry/commands/show_input.rb\", \"/Users/mic/.rbenv/versions/2.1.0/lib/ruby/gems/2.1.0/gems/pry-0.10.1/lib/pry/commands/show_source.rb\", \"/Users/mic/.rbenv/versions/2.1.0/lib/ruby/gems/2.1.0/gems/pry-0.10.1/lib/pry/commands/simple_prompt.rb\", \"/Users/mic/.rbenv/versions/2.1.0/lib/ruby/gems/2.1.0/gems/pry-0.10.1/lib/pry/commands/stat.rb\", \"/Users/mic/.rbenv/versions/2.1.0/lib/ruby/gems/2.1.0/gems/pry-0.10.1/lib/pry/commands/switch_to.rb\", \"/Users/mic/.rbenv/versions/2.1.0/lib/ruby/gems/2.1.0/gems/pry-0.10.1/lib/pry/commands/toggle_color.rb\", \"/Users/mic/.rbenv/versions/2.1.0/lib/ruby/gems/2.1.0/gems/pry-0.10.1/lib/pry/commands/watch_expression/expression.rb\", \"/Users/mic/.rbenv/versions/2.1.0/lib/ruby/gems/2.1.0/gems/pry-0.10.1/lib/pry/commands/watch_expression.rb\", \"/Users/mic/.rbenv/versions/2.1.0/lib/ruby/gems/2.1.0/gems/pry-0.10.1/lib/pry/commands/whereami.rb\", \"/Users/mic/.rbenv/versions/2.1.0/lib/ruby/gems/2.1.0/gems/pry-0.10.1/lib/pry/commands/wtf.rb\", \"/Users/mic/.rbenv/versions/2.1.0/lib/ruby/gems/2.1.0/gems/pry-0.10.1/lib/pry/commands.rb\", \"/Users/mic/.rbenv/versions/2.1.0/lib/ruby/gems/2.1.0/gems/pry-0.10.1/lib/pry/plugins.rb\", \"/Users/mic/.rbenv/versions/2.1.0/lib/ruby/gems/2.1.0/gems/pry-0.10.1/lib/pry/core_extensions.rb\", \"/Users/mic/.rbenv/versions/2.1.0/lib/ruby/gems/2.1.0/gems/pry-0.10.1/lib/pry/config/behavior.rb\", \"/Users/mic/.rbenv/versions/2.1.0/lib/ruby/gems/2.1.0/gems/pry-0.10.1/lib/pry/config/default.rb\", \"/Users/mic/.rbenv/versions/2.1.0/lib/ruby/gems/2.1.0/gems/pry-0.10.1/lib/pry/config/convenience.rb\", \"/Users/mic/.rbenv/versions/2.1.0/lib/ruby/gems/2.1.0/gems/pry-0.10.1/lib/pry/config.rb\", \"/Users/mic/.rbenv/versions/2.1.0/lib/ruby/gems/2.1.0/gems/pry-0.10.1/lib/pry/pry_class.rb\", \"/Users/mic/.rbenv/versions/2.1.0/lib/ruby/gems/2.1.0/gems/pry-0.10.1/lib/pry/pry_instance.rb\", \"/Users/mic/.rbenv/versions/2.1.0/lib/ruby/gems/2.1.0/gems/pry-byebug-2.0.0/lib/pry-byebug/base.rb\", \"/Users/mic/.rbenv/versions/2.1.0/lib/ruby/gems/2.1.0/extensions/x86_64-darwin-13/2.1.0-static/byebug-3.5.1/byebug/byebug.bundle\", \"/Users/mic/.rbenv/versions/2.1.0/lib/ruby/gems/2.1.0/gems/byebug-3.5.1/lib/byebug/version.rb\", \"/Users/mic/.rbenv/versions/2.1.0/lib/ruby/gems/2.1.0/gems/byebug-3.5.1/lib/byebug/context.rb\", \"/Users/mic/.rbenv/versions/2.1.0/lib/ruby/gems/2.1.0/gems/byebug-3.5.1/lib/byebug/breakpoint.rb\", \"/Users/mic/.rbenv/versions/2.1.0/lib/ruby/2.1.0/x86_64-darwin13.0/readline.bundle\", \"/Users/mic/.rbenv/versions/2.1.0/lib/ruby/gems/2.1.0/gems/byebug-3.5.1/lib/byebug/history.rb\", \"/Users/mic/.rbenv/versions/2.1.0/lib/ruby/gems/2.1.0/gems/byebug-3.5.1/lib/byebug/interfaces/local_interface.rb\", \"/Users/mic/.rbenv/versions/2.1.0/lib/ruby/gems/2.1.0/gems/byebug-3.5.1/lib/byebug/interfaces/script_interface.rb\", \"/Users/mic/.rbenv/versions/2.1.0/lib/ruby/gems/2.1.0/gems/byebug-3.5.1/lib/byebug/interfaces/remote_interface.rb\", \"/Users/mic/.rbenv/versions/2.1.0/lib/ruby/gems/2.1.0/gems/byebug-3.5.1/lib/byebug/interface.rb\", \"/Users/mic/.rbenv/versions/2.1.0/lib/ruby/gems/2.1.0/gems/columnize-0.9.0/lib/columnize/opts.rb\", \"/Users/mic/.rbenv/versions/2.1.0/lib/ruby/gems/2.1.0/gems/columnize-0.9.0/lib/columnize/columnize.rb\", \"/Users/mic/.rbenv/versions/2.1.0/lib/ruby/gems/2.1.0/gems/columnize-0.9.0/lib/columnize/version.rb\", \"/Users/mic/.rbenv/versions/2.1.0/lib/ruby/gems/2.1.0/gems/columnize-0.9.0/lib/columnize.rb\", \"/Users/mic/.rbenv/versions/2.1.0/lib/ruby/gems/2.1.0/gems/byebug-3.5.1/lib/byebug/helper.rb\", \"/Users/mic/.rbenv/versions/2.1.0/lib/ruby/gems/2.1.0/gems/byebug-3.5.1/lib/byebug/commands/break.rb\", \"/Users/mic/.rbenv/versions/2.1.0/lib/ruby/gems/2.1.0/gems/byebug-3.5.1/lib/byebug/commands/catchpoint.rb\", \"/Users/mic/.rbenv/versions/2.1.0/lib/ruby/gems/2.1.0/gems/byebug-3.5.1/lib/byebug/commands/condition.rb\", \"/Users/mic/.rbenv/versions/2.1.0/lib/ruby/gems/2.1.0/gems/byebug-3.5.1/lib/byebug/commands/continue.rb\", \"/Users/mic/.rbenv/versions/2.1.0/lib/ruby/gems/2.1.0/gems/byebug-3.5.1/lib/byebug/commands/delete.rb\", \"/Users/mic/.rbenv/versions/2.1.0/lib/ruby/gems/2.1.0/gems/byebug-3.5.1/lib/byebug/commands/display.rb\", \"/Users/mic/.rbenv/versions/2.1.0/lib/ruby/gems/2.1.0/gems/byebug-3.5.1/lib/byebug/commands/edit.rb\", \"/Users/mic/.rbenv/versions/2.1.0/lib/ruby/gems/2.1.0/gems/byebug-3.5.1/lib/byebug/commands/enable_disable.rb\", \"/Users/mic/.rbenv/versions/2.1.0/lib/ruby/2.1.0/English.rb\", \"/Users/mic/.rbenv/versions/2.1.0/lib/ruby/gems/2.1.0/gems/byebug-3.5.1/lib/byebug/commands/eval.rb\", \"/Users/mic/.rbenv/versions/2.1.0/lib/ruby/gems/2.1.0/gems/byebug-3.5.1/lib/byebug/commands/finish.rb\", \"/Users/mic/.rbenv/versions/2.1.0/lib/ruby/gems/2.1.0/gems/byebug-3.5.1/lib/byebug/commands/frame.rb\", \"/Users/mic/.rbenv/versions/2.1.0/lib/ruby/gems/2.1.0/gems/byebug-3.5.1/lib/byebug/commands/help.rb\", \"/Users/mic/.rbenv/versions/2.1.0/lib/ruby/gems/2.1.0/gems/byebug-3.5.1/lib/byebug/commands/history.rb\", \"/Users/mic/.rbenv/versions/2.1.0/lib/ruby/gems/2.1.0/gems/byebug-3.5.1/lib/byebug/commands/info.rb\", \"/Users/mic/.rbenv/versions/2.1.0/lib/ruby/gems/2.1.0/gems/byebug-3.5.1/lib/byebug/commands/interrupt.rb\", \"/Users/mic/.rbenv/versions/2.1.0/lib/ruby/2.1.0/e2mmap.rb\", \"/Users/mic/.rbenv/versions/2.1.0/lib/ruby/2.1.0/irb/init.rb\", \"/Users/mic/.rbenv/versions/2.1.0/lib/ruby/2.1.0/irb/workspace.rb\", \"/Users/mic/.rbenv/versions/2.1.0/lib/ruby/2.1.0/irb/inspector.rb\", \"/Users/mic/.rbenv/versions/2.1.0/lib/ruby/2.1.0/irb/context.rb\", \"/Users/mic/.rbenv/versions/2.1.0/lib/ruby/2.1.0/irb/extend-command.rb\", \"/Users/mic/.rbenv/versions/2.1.0/lib/ruby/2.1.0/irb/output-method.rb\", \"/Users/mic/.rbenv/versions/2.1.0/lib/ruby/2.1.0/irb/notifier.rb\", \"/Users/mic/.rbenv/versions/2.1.0/lib/ruby/2.1.0/irb/slex.rb\", \"/Users/mic/.rbenv/versions/2.1.0/lib/ruby/2.1.0/irb/ruby-token.rb\", \"/Users/mic/.rbenv/versions/2.1.0/lib/ruby/2.1.0/irb/ruby-lex.rb\", \"/Users/mic/.rbenv/versions/2.1.0/lib/ruby/2.1.0/irb/src_encoding.rb\", \"/Users/mic/.rbenv/versions/2.1.0/lib/ruby/2.1.0/irb/magic-file.rb\", \"/Users/mic/.rbenv/versions/2.1.0/lib/ruby/2.1.0/irb/input-method.rb\", \"/Users/mic/.rbenv/versions/2.1.0/lib/ruby/2.1.0/irb/locale.rb\", \"/Users/mic/.rbenv/versions/2.1.0/lib/ruby/2.1.0/irb.rb\", \"/Users/mic/.rbenv/versions/2.1.0/lib/ruby/gems/2.1.0/gems/byebug-3.5.1/lib/byebug/commands/irb.rb\", \"/Users/mic/.rbenv/versions/2.1.0/lib/ruby/gems/2.1.0/gems/byebug-3.5.1/lib/byebug/commands/kill.rb\", \"/Users/mic/.rbenv/versions/2.1.0/lib/ruby/gems/2.1.0/gems/byebug-3.5.1/lib/byebug/commands/list.rb\", \"/Users/mic/.rbenv/versions/2.1.0/lib/ruby/gems/2.1.0/gems/byebug-3.5.1/lib/byebug/commands/method.rb\", \"/Users/mic/.rbenv/versions/2.1.0/lib/ruby/gems/2.1.0/gems/byebug-3.5.1/lib/byebug/commands/pry.rb\", \"/Users/mic/.rbenv/versions/2.1.0/lib/ruby/gems/2.1.0/gems/byebug-3.5.1/lib/byebug/commands/quit.rb\", \"/Users/mic/.rbenv/versions/2.1.0/lib/ruby/gems/2.1.0/gems/byebug-3.5.1/lib/byebug/commands/reload.rb\", \"/Users/mic/.rbenv/versions/2.1.0/lib/ruby/gems/2.1.0/gems/byebug-3.5.1/lib/byebug/commands/restart.rb\", \"/Users/mic/.rbenv/versions/2.1.0/lib/ruby/gems/2.1.0/gems/byebug-3.5.1/lib/byebug/commands/save.rb\", \"/Users/mic/.rbenv/versions/2.1.0/lib/ruby/gems/2.1.0/gems/byebug-3.5.1/lib/byebug/commands/set.rb\", \"/Users/mic/.rbenv/versions/2.1.0/lib/ruby/gems/2.1.0/gems/byebug-3.5.1/lib/byebug/commands/show.rb\", \"/Users/mic/.rbenv/versions/2.1.0/lib/ruby/gems/2.1.0/gems/byebug-3.5.1/lib/byebug/commands/source.rb\", \"/Users/mic/.rbenv/versions/2.1.0/lib/ruby/gems/2.1.0/gems/byebug-3.5.1/lib/byebug/commands/stepping.rb\", \"/Users/mic/.rbenv/versions/2.1.0/lib/ruby/gems/2.1.0/gems/byebug-3.5.1/lib/byebug/commands/threads.rb\", \"/Users/mic/.rbenv/versions/2.1.0/lib/ruby/gems/2.1.0/gems/byebug-3.5.1/lib/byebug/commands/trace.rb\", \"/Users/mic/.rbenv/versions/2.1.0/lib/ruby/gems/2.1.0/gems/byebug-3.5.1/lib/byebug/commands/undisplay.rb\", \"/Users/mic/.rbenv/versions/2.1.0/lib/ruby/gems/2.1.0/gems/byebug-3.5.1/lib/byebug/commands/variables.rb\", \"/Users/mic/.rbenv/versions/2.1.0/lib/ruby/gems/2.1.0/gems/byebug-3.5.1/lib/byebug/command.rb\", \"/Users/mic/.rbenv/versions/2.1.0/lib/ruby/gems/2.1.0/gems/byebug-3.5.1/lib/byebug/processors/command_processor.rb\", \"/Users/mic/.rbenv/versions/2.1.0/lib/ruby/gems/2.1.0/gems/byebug-3.5.1/lib/byebug/processors/control_command_processor.rb\", \"/Users/mic/.rbenv/versions/2.1.0/lib/ruby/gems/2.1.0/gems/byebug-3.5.1/lib/byebug/processor.rb\", \"/Users/mic/.rbenv/versions/2.1.0/lib/ruby/gems/2.1.0/gems/byebug-3.5.1/lib/byebug/settings/autoeval.rb\", \"/Users/mic/.rbenv/versions/2.1.0/lib/ruby/gems/2.1.0/gems/byebug-3.5.1/lib/byebug/settings/autoirb.rb\", \"/Users/mic/.rbenv/versions/2.1.0/lib/ruby/gems/2.1.0/gems/byebug-3.5.1/lib/byebug/settings/autolist.rb\", \"/Users/mic/.rbenv/versions/2.1.0/lib/ruby/gems/2.1.0/gems/byebug-3.5.1/lib/byebug/settings/autoreload.rb\", \"/Users/mic/.rbenv/versions/2.1.0/lib/ruby/gems/2.1.0/gems/byebug-3.5.1/lib/byebug/settings/autosave.rb\", \"/Users/mic/.rbenv/versions/2.1.0/lib/ruby/gems/2.1.0/gems/byebug-3.5.1/lib/byebug/settings/basename.rb\", \"/Users/mic/.rbenv/versions/2.1.0/lib/ruby/gems/2.1.0/gems/byebug-3.5.1/lib/byebug/settings/callstyle.rb\", \"/Users/mic/.rbenv/versions/2.1.0/lib/ruby/gems/2.1.0/gems/byebug-3.5.1/lib/byebug/settings/forcestep.rb\", \"/Users/mic/.rbenv/versions/2.1.0/lib/ruby/gems/2.1.0/gems/byebug-3.5.1/lib/byebug/settings/fullpath.rb\", \"/Users/mic/.rbenv/versions/2.1.0/lib/ruby/gems/2.1.0/gems/byebug-3.5.1/lib/byebug/settings/histfile.rb\", \"/Users/mic/.rbenv/versions/2.1.0/lib/ruby/gems/2.1.0/gems/byebug-3.5.1/lib/byebug/settings/histsize.rb\", \"/Users/mic/.rbenv/versions/2.1.0/lib/ruby/gems/2.1.0/gems/byebug-3.5.1/lib/byebug/settings/linetrace.rb\", \"/Users/mic/.rbenv/versions/2.1.0/lib/ruby/gems/2.1.0/gems/byebug-3.5.1/lib/byebug/settings/listsize.rb\", \"/Users/mic/.rbenv/versions/2.1.0/lib/ruby/gems/2.1.0/gems/byebug-3.5.1/lib/byebug/settings/post_mortem.rb\", \"/Users/mic/.rbenv/versions/2.1.0/lib/ruby/gems/2.1.0/gems/byebug-3.5.1/lib/byebug/settings/stack_on_error.rb\", \"/Users/mic/.rbenv/versions/2.1.0/lib/ruby/gems/2.1.0/gems/byebug-3.5.1/lib/byebug/settings/testing.rb\", \"/Users/mic/.rbenv/versions/2.1.0/lib/ruby/gems/2.1.0/gems/byebug-3.5.1/lib/byebug/settings/tracing_plus.rb\", \"/Users/mic/.rbenv/versions/2.1.0/lib/ruby/gems/2.1.0/gems/byebug-3.5.1/lib/byebug/settings/verbose.rb\", \"/Users/mic/.rbenv/versions/2.1.0/lib/ruby/gems/2.1.0/gems/byebug-3.5.1/lib/byebug/settings/width.rb\", \"/Users/mic/.rbenv/versions/2.1.0/lib/ruby/gems/2.1.0/gems/byebug-3.5.1/lib/byebug/setting.rb\", \"/Users/mic/.rbenv/versions/2.1.0/lib/ruby/2.1.0/x86_64-darwin13.0/socket.bundle\", \"/Users/mic/.rbenv/versions/2.1.0/lib/ruby/2.1.0/socket.rb\", \"/Users/mic/.rbenv/versions/2.1.0/lib/ruby/gems/2.1.0/gems/byebug-3.5.1/lib/byebug/remote.rb\", \"/Users/mic/.rbenv/versions/2.1.0/lib/ruby/2.1.0/tracer.rb\", \"/Users/mic/.rbenv/versions/2.1.0/lib/ruby/2.1.0/x86_64-darwin13.0/digest/sha1.bundle\", \"/Users/mic/.rbenv/versions/2.1.0/lib/ruby/gems/2.1.0/gems/debugger-linecache-1.2.0/lib/tracelines19.rb\", \"/Users/mic/.rbenv/versions/2.1.0/lib/ruby/gems/2.1.0/gems/debugger-linecache-1.2.0/lib/linecache19.rb\", \"/Users/mic/.rbenv/versions/2.1.0/lib/ruby/gems/2.1.0/gems/byebug-3.5.1/lib/byebug/core.rb\", \"/Users/mic/.rbenv/versions/2.1.0/lib/ruby/gems/2.1.0/gems/byebug-3.5.1/lib/byebug/attacher.rb\", \"/Users/mic/.rbenv/versions/2.1.0/lib/ruby/gems/2.1.0/gems/byebug-3.5.1/lib/byebug.rb\", \"/Users/mic/.rbenv/versions/2.1.0/lib/ruby/gems/2.1.0/gems/pry-byebug-2.0.0/lib/pry-byebug/processor.rb\", \"/Users/mic/.rbenv/versions/2.1.0/lib/ruby/gems/2.1.0/gems/pry-byebug-2.0.0/lib/pry-byebug/pry_ext.rb\", \"/Users/mic/.rbenv/versions/2.1.0/lib/ruby/gems/2.1.0/gems/pry-byebug-2.0.0/lib/pry-byebug/breakpoints.rb\", \"/Users/mic/.rbenv/versions/2.1.0/lib/ruby/gems/2.1.0/gems/pry-byebug-2.0.0/lib/pry-byebug/commands.rb\", \"/Users/mic/.rbenv/versions/2.1.0/lib/ruby/gems/2.1.0/gems/pry-byebug-2.0.0/lib/pry-byebug.rb\", \"/Users/mic/.rbenv/versions/2.1.0/lib/ruby/gems/2.1.0/gems/pry-byebug-2.0.0/lib/pry-byebug/cli.rb\", \"/Users/mic/.rbenv/versions/2.1.0/lib/ruby/gems/2.1.0/gems/pry-0.10.1/lib/pry/cli.rb\", \"/Users/mic/.rbenv/versions/2.1.0/lib/ruby/gems/2.1.0/gems/coderay-1.1.0/lib/coderay/helpers/plugin.rb\", \"/Users/mic/.rbenv/versions/2.1.0/lib/ruby/gems/2.1.0/gems/coderay-1.1.0/lib/coderay/encoder.rb\", \"/Users/mic/.rbenv/versions/2.1.0/lib/ruby/gems/2.1.0/gems/coderay-1.1.0/lib/coderay/encoders/_map.rb\", \"/Users/mic/.rbenv/versions/2.1.0/lib/ruby/gems/2.1.0/gems/coderay-1.1.0/lib/coderay/encoders/terminal.rb\", \"/Users/mic/.rbenv/versions/2.1.0/lib/ruby/gems/2.1.0/gems/pry-0.10.1/lib/pry/color_printer.rb\", \"/Users/mic/.rbenv/versions/2.1.0/lib/ruby/gems/2.1.0/gems/pry-0.10.1/lib/pry/terminal.rb\", \"/Users/mic/.rbenv/versions/2.1.0/lib/ruby/gems/2.1.0/gems/pry-0.10.1/lib/pry/pager.rb\", \"/Users/mic/.rbenv/versions/2.1.0/lib/ruby/gems/2.1.0/gems/pry-0.10.1/lib/pry/editor.rb\", \"/Users/mic/.rbenv/versions/2.1.0/lib/ruby/gems/2.1.0/gems/pry-0.10.1/lib/pry/rubygem.rb\", \"/Users/mic/.rbenv/versions/2.1.0/lib/ruby/gems/2.1.0/gems/pry-0.10.1/lib/pry/indent.rb\", \"/Users/mic/.rbenv/versions/2.1.0/lib/ruby/gems/2.1.0/gems/pry-0.10.1/lib/pry/last_exception.rb\", \"/Users/mic/.rbenv/versions/2.1.0/lib/ruby/gems/2.1.0/gems/pry-0.10.1/lib/pry/prompt.rb\", \"/Users/mic/.rbenv/versions/2.1.0/lib/ruby/gems/2.1.0/gems/pry-0.10.1/lib/pry/inspector.rb\", \"/Users/mic/.rbenv/versions/2.1.0/lib/ruby/gems/2.1.0/gems/pry-0.10.1/lib/pry/object_path.rb\", \"/Users/mic/.rbenv/versions/2.1.0/lib/ruby/gems/2.1.0/gems/pry-0.10.1/lib/pry/output.rb\", \"/Users/mic/.rbenv/versions/2.1.0/lib/ruby/gems/2.1.0/gems/pry-0.10.1/lib/pry.rb\", \"/Users/mic/.rbenv/versions/2.1.0/lib/ruby/2.1.0/cgi/util.rb\", \"/Users/mic/.rbenv/versions/2.1.0/lib/ruby/2.1.0/x86_64-darwin13.0/strscan.bundle\", \"/Users/mic/.rbenv/versions/2.1.0/lib/ruby/2.1.0/erb.rb\", \"/Users/mic/.rbenv/versions/2.1.0/lib/ruby/gems/2.1.0/gems/pry-0.10.1/lib/pry/input_completer.rb\"]"
       ]
      }
     ],
     "prompt_number": 5
    },
    {
     "cell_type": "code",
     "collapsed": false,
     "input": [
      "require_relative '024/my_lib'"
     ],
     "language": "python",
     "metadata": {},
     "outputs": [
      {
       "metadata": {},
       "output_type": "pyout",
       "prompt_number": 6,
       "text": [
        "true"
       ]
      }
     ],
     "prompt_number": 6
    },
    {
     "cell_type": "code",
     "collapsed": false,
     "input": [
      "foo"
     ],
     "language": "python",
     "metadata": {},
     "outputs": [
      {
       "output_type": "stream",
       "stream": "stdout",
       "text": [
        "foooo\n"
       ]
      }
     ],
     "prompt_number": 7
    },
    {
     "cell_type": "code",
     "collapsed": false,
     "input": [
      "undef foo"
     ],
     "language": "python",
     "metadata": {},
     "outputs": [],
     "prompt_number": 8
    },
    {
     "cell_type": "code",
     "collapsed": false,
     "input": [
      "require './024/my_lib_parent'"
     ],
     "language": "python",
     "metadata": {},
     "outputs": [
      {
       "metadata": {},
       "output_type": "pyout",
       "prompt_number": 12,
       "text": [
        "false"
       ]
      }
     ],
     "prompt_number": 12
    },
    {
     "cell_type": "code",
     "collapsed": false,
     "input": [
      "require './024/my_lib_sym'"
     ],
     "language": "python",
     "metadata": {},
     "outputs": [
      {
       "metadata": {},
       "output_type": "pyout",
       "prompt_number": 13,
       "text": [
        "true"
       ]
      }
     ],
     "prompt_number": 13
    },
    {
     "cell_type": "code",
     "collapsed": false,
     "input": [
      "foo"
     ],
     "language": "python",
     "metadata": {},
     "outputs": [
      {
       "ename": "NameError",
       "evalue": "undefined local variable or method `foo' for main:Object",
       "output_type": "pyerr",
       "traceback": [
        "\u001b[31mNameError\u001b[0m: undefined local variable or method `foo' for main:Object",
        "\u001b[37m(pry):14:in `<main>'\u001b[0m",
        "\u001b[37m/Users/mic/.rbenv/versions/2.1.0/lib/ruby/gems/2.1.0/gems/pry-0.10.1/lib/pry/pry_instance.rb:355:in `eval'\u001b[0m",
        "\u001b[37m/Users/mic/.rbenv/versions/2.1.0/lib/ruby/gems/2.1.0/gems/pry-0.10.1/lib/pry/pry_instance.rb:355:in `evaluate_ruby'\u001b[0m",
        "\u001b[37m/Users/mic/.rbenv/versions/2.1.0/lib/ruby/gems/2.1.0/gems/pry-0.10.1/lib/pry/pry_instance.rb:323:in `handle_line'\u001b[0m",
        "\u001b[37m/Users/mic/.rbenv/versions/2.1.0/lib/ruby/gems/2.1.0/gems/pry-0.10.1/lib/pry/pry_instance.rb:243:in `block (2 levels) in eval'\u001b[0m",
        "\u001b[37m/Users/mic/.rbenv/versions/2.1.0/lib/ruby/gems/2.1.0/gems/pry-0.10.1/lib/pry/pry_instance.rb:242:in `catch'\u001b[0m",
        "\u001b[37m/Users/mic/.rbenv/versions/2.1.0/lib/ruby/gems/2.1.0/gems/pry-0.10.1/lib/pry/pry_instance.rb:242:in `block in eval'\u001b[0m",
        "\u001b[37m/Users/mic/.rbenv/versions/2.1.0/lib/ruby/gems/2.1.0/gems/pry-0.10.1/lib/pry/pry_instance.rb:241:in `catch'\u001b[0m",
        "\u001b[37m/Users/mic/.rbenv/versions/2.1.0/lib/ruby/gems/2.1.0/gems/pry-0.10.1/lib/pry/pry_instance.rb:241:in `eval'\u001b[0m",
        "\u001b[37m/Users/mic/.rbenv/versions/2.1.0/lib/ruby/gems/2.1.0/gems/iruby-0.1.13/lib/iruby/backend.rb:28:in `eval'\u001b[0m",
        "\u001b[37m/Users/mic/.rbenv/versions/2.1.0/lib/ruby/gems/2.1.0/gems/iruby-0.1.13/lib/iruby/kernel.rb:110:in `execute_request'\u001b[0m",
        "\u001b[37m/Users/mic/.rbenv/versions/2.1.0/lib/ruby/gems/2.1.0/gems/iruby-0.1.13/lib/iruby/kernel.rb:62:in `run'\u001b[0m",
        "\u001b[37m/Users/mic/.rbenv/versions/2.1.0/lib/ruby/gems/2.1.0/gems/iruby-0.1.13/lib/iruby/command.rb:30:in `run_kernel'\u001b[0m",
        "\u001b[37m/Users/mic/.rbenv/versions/2.1.0/lib/ruby/gems/2.1.0/gems/iruby-0.1.13/lib/iruby/command.rb:16:in `run'\u001b[0m",
        "\u001b[37m/Users/mic/.rbenv/versions/2.1.0/lib/ruby/gems/2.1.0/gems/iruby-0.1.13/bin/iruby:6:in `<top (required)>'\u001b[0m",
        "\u001b[37m/Users/mic/.rbenv/versions/2.1.0/bin/iruby:23:in `load'\u001b[0m",
        "\u001b[37m/Users/mic/.rbenv/versions/2.1.0/bin/iruby:23:in `<main>'\u001b[0m"
       ]
      }
     ],
     "prompt_number": 14
    },
    {
     "cell_type": "markdown",
     "metadata": {},
     "source": [
      "- iruby\u306ebug\n",
      "- pry\u3067\u306f\u6b63\u5e38\u306b\u52d5\u4f5c"
     ]
    },
    {
     "cell_type": "code",
     "collapsed": false,
     "input": [
      "load __dir__ + '/024/my_lib.rb'"
     ],
     "language": "python",
     "metadata": {},
     "outputs": [
      {
       "metadata": {},
       "output_type": "pyout",
       "prompt_number": 16,
       "text": [
        "true"
       ]
      }
     ],
     "prompt_number": 16
    },
    {
     "cell_type": "markdown",
     "metadata": {},
     "source": [
      "# 3-6-4 \u5272\u308a\u8fbc\u307f\u30cf\u30f3\u30c9\u30e9\u3092\u5b9a\u7fa9\u3059\u308b"
     ]
    },
    {
     "cell_type": "markdown",
     "metadata": {},
     "source": [
      "## trap\u306e\u8fd4\u308a\u5024\u3092\u4f7f\u3063\u305f\u4f8b\n",
      "https://github.com/ice799/memprof/blob/d4bc228aca323b58fea92dbde20c1f8ec36e5386/lib/memprof/signal.rb#L8-16"
     ]
    },
    {
     "cell_type": "code",
     "collapsed": false,
     "input": [],
     "language": "python",
     "metadata": {},
     "outputs": []
    }
   ],
   "metadata": {}
  }
 ]
}