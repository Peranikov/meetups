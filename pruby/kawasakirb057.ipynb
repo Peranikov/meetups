{
 "cells": [
  {
   "cell_type": "markdown",
   "metadata": {},
   "source": [
    "### 5-7-4 Kernel.#open"
   ]
  },
  {
   "cell_type": "code",
   "execution_count": 2,
   "metadata": {},
   "outputs": [
    {
     "name": "stdout",
     "output_type": "stream",
     "text": [
      "5\n"
     ]
    }
   ],
   "source": [
    "open('data/counter') {|f| puts f.read}"
   ]
  },
  {
   "cell_type": "code",
   "execution_count": 13,
   "metadata": {},
   "outputs": [
    {
     "name": "stdout",
     "output_type": "stream",
     "text": [
      " ドライブ C のボリューム ラベルは Windows です\n",
      " ボリューム シリアル番号は 30D7-D31C です\n",
      "\n",
      " C:\\Users\\chezo\\source\\kawasakirb\\meetups\\pruby のディレクトリ\n",
      "\n",
      "2018/02/21  19:21    <DIR>          .\n",
      "2018/02/21  19:21    <DIR>          ..\n",
      "2018/02/21  19:13    <DIR>          .ipynb_checkpoints\n",
      "2017/07/26  19:40    <DIR>          024\n",
      "2018/01/24  19:26    <DIR>          data\n",
      "2017/07/26  19:40             8,598 kawasakirb018.ipynb\n",
      "2017/07/26  19:40             8,795 kawasakirb020.ipynb\n",
      "2017/07/26  19:40            13,739 kawasakirb021.ipynb\n",
      "2017/07/26  19:40            33,905 kawasakirb022.ipynb\n",
      "2017/07/26  19:40            67,825 kawasakirb024.ipynb\n",
      "2017/07/26  19:40            14,354 kawasakirb025.ipynb\n",
      "2017/07/26  19:40             9,899 kawasakirb027.ipynb\n",
      "2017/07/26  19:40            24,026 kawasakirb028.ipynb\n",
      "2017/07/26  19:40             9,640 kawasakirb029.ipynb\n",
      "2017/07/26  19:40            18,789 kawasakirb030.ipynb\n",
      "2017/07/26  19:40            11,344 kawasakirb031.ipynb\n",
      "2017/07/26  19:40            43,268 kawasakirb032.ipynb\n",
      "2017/07/26  19:40            28,632 kawasakirb033.ipynb\n",
      "2017/07/26  19:40            10,790 kawasakirb034.ipynb\n",
      "2017/07/26  19:40            13,190 kawasakirb035.ipynb\n",
      "2017/07/26  19:40            10,826 kawasakirb036.ipynb\n",
      "2017/07/26  19:40             8,454 kawasakirb039.ipynb\n",
      "2017/07/26  19:40             7,132 kawasakirb040.ipynb\n",
      "2017/07/26  19:40            12,261 kawasakirb042.ipynb\n",
      "2017/07/26  19:40             8,239 kawasakirb044.ipynb\n",
      "2017/07/26  19:40            12,838 kawasakirb045.ipynb\n",
      "2017/07/26  19:40             8,629 kawasakirb046.ipynb\n",
      "2017/07/26  19:40            16,669 kawasakirb047.ipynb\n",
      "2017/07/26  19:40            12,872 kawasakirb048.ipynb\n",
      "2017/07/26  19:40            20,645 kawasakirb049.ipynb\n",
      "2017/07/26  20:25            10,434 kawasakirb050.ipynb\n",
      "2017/11/22  20:20             9,314 kawasakirb053.ipynb\n",
      "2017/11/22  20:20             3,702 kawasakirb054.ipynb\n",
      "2017/12/20  20:08             5,597 kawasakirb055.ipynb\n",
      "2018/01/25  09:14             6,442 kawasakirb056.ipynb\n",
      "2018/02/21  19:21             3,937 kawasakirb057.ipynb\n",
      "2017/07/26  19:40             2,806 kawasakirb16.ipynb\n",
      "2017/07/26  19:40            14,699 kawasakirb17.ipynb\n",
      "2017/07/26  19:40             4,622 kawasakirb19.ipynb\n",
      "              34 個のファイル             496,912 バイト\n",
      "               5 個のディレクトリ  138,559,021,056 バイトの空き領域\n",
      "\n"
     ]
    }
   ],
   "source": [
    "open('|dir') {|io| puts(io.read.force_encoding('CP932').encode('UTF-8'))}"
   ]
  },
  {
   "cell_type": "code",
   "execution_count": 14,
   "metadata": {
    "collapsed": true
   },
   "outputs": [
    {
     "ename": "NotImplementedError",
     "evalue": "fork() function is unimplemented on this machine",
     "output_type": "error",
     "traceback": [
      "\u001b[31mNotImplementedError\u001b[0m: fork() function is unimplemented on this machine",
      "\u001b[37m<main>:in `open'\u001b[0m",
      "\u001b[37m<main>:in `<main>'\u001b[0m",
      "\u001b[37mC:/Ruby24-x64/lib/ruby/gems/2.4.0/gems/iruby-0.3/lib/iruby/backend.rb:44:in `eval'\u001b[0m",
      "\u001b[37mC:/Ruby24-x64/lib/ruby/gems/2.4.0/gems/iruby-0.3/lib/iruby/backend.rb:44:in `eval'\u001b[0m",
      "\u001b[37mC:/Ruby24-x64/lib/ruby/gems/2.4.0/gems/iruby-0.3/lib/iruby/backend.rb:12:in `eval'\u001b[0m",
      "\u001b[37mC:/Ruby24-x64/lib/ruby/gems/2.4.0/gems/iruby-0.3/lib/iruby/kernel.rb:87:in `execute_request'\u001b[0m",
      "\u001b[37mC:/Ruby24-x64/lib/ruby/gems/2.4.0/gems/iruby-0.3/lib/iruby/kernel.rb:47:in `dispatch'\u001b[0m",
      "\u001b[37mC:/Ruby24-x64/lib/ruby/gems/2.4.0/gems/iruby-0.3/lib/iruby/kernel.rb:37:in `run'\u001b[0m",
      "\u001b[37mC:/Ruby24-x64/lib/ruby/gems/2.4.0/gems/iruby-0.3/lib/iruby/command.rb:70:in `run_kernel'\u001b[0m",
      "\u001b[37mC:/Ruby24-x64/lib/ruby/gems/2.4.0/gems/iruby-0.3/lib/iruby/command.rb:34:in `run'\u001b[0m",
      "\u001b[37mC:/Ruby24-x64/lib/ruby/gems/2.4.0/gems/iruby-0.3/bin/iruby:5:in `<top (required)>'\u001b[0m",
      "\u001b[37mC:/Ruby24-x64/bin/iruby:23:in `load'\u001b[0m",
      "\u001b[37mC:/Ruby24-x64/bin/iruby:23:in `<main>'\u001b[0m"
     ]
    }
   ],
   "source": [
    "open '|-', 'w' do |io|\n",
    "  if io\n",
    "    io.puts \"hello, world!\"\n",
    "  else\n",
    "    puts gets\n",
    "  end\n",
    "end"
   ]
  },
  {
   "cell_type": "markdown",
   "metadata": {},
   "source": [
    "次回、 \"5-8 Dir\" から"
   ]
  }
 ],
 "metadata": {
  "kernelspec": {
   "display_name": "Ruby 2.4.1",
   "language": "ruby",
   "name": "ruby"
  },
  "language_info": {
   "file_extension": ".rb",
   "mimetype": "application/x-ruby",
   "name": "ruby",
   "version": "2.4.1"
  }
 },
 "nbformat": 4,
 "nbformat_minor": 2
}
