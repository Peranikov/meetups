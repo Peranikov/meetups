{
 "cells": [
  {
   "cell_type": "markdown",
   "metadata": {},
   "source": [
    "## 5-9 Thread"
   ]
  },
  {
   "cell_type": "markdown",
   "metadata": {},
   "source": [
    "### 5-9-1 スレッドの生成"
   ]
  },
  {
   "cell_type": "code",
   "execution_count": 1,
   "metadata": {},
   "outputs": [
    {
     "data": {
      "text/plain": [
       "[\"kawasakirb028.ipynb: 851\", \"kawasakirb058.ipynb: 717\"]"
      ]
     },
     "execution_count": 1,
     "metadata": {},
     "output_type": "execute_result"
    }
   ],
   "source": [
    "files = %w(kawasakirb028.ipynb kawasakirb058.ipynb)\n",
    "threads = files.map {|file|\n",
    "  Thread.fork {\n",
    "    num = File.readlines(file).length\n",
    "    \n",
    "    \"#{file}: #{num}\"\n",
    "  }\n",
    "}\n",
    "\n",
    "threads.map(&:value)"
   ]
  },
  {
   "cell_type": "code",
   "execution_count": 2,
   "metadata": {},
   "outputs": [
    {
     "data": {
      "text/plain": [
       "[#<Thread:0x00000007293ab8@(pry):3 dead>, #<Thread:0x000000072939a0@(pry):3 dead>]"
      ]
     },
     "execution_count": 2,
     "metadata": {},
     "output_type": "execute_result"
    }
   ],
   "source": [
    "threads"
   ]
  },
  {
   "cell_type": "code",
   "execution_count": 3,
   "metadata": {},
   "outputs": [
    {
     "data": {
      "text/plain": [
       "[\"kawasakirb028.ipynb: 851\", \"kawasakirb058.ipynb: 717\"]"
      ]
     },
     "execution_count": 3,
     "metadata": {},
     "output_type": "execute_result"
    }
   ],
   "source": [
    "files.map {|file|\n",
    "    num = File.readlines(file).length\n",
    "    \n",
    "    \"#{file}: #{num}\"\n",
    "}"
   ]
  },
  {
   "cell_type": "code",
   "execution_count": 4,
   "metadata": {},
   "outputs": [
    {
     "data": {
      "text/plain": [
       "[\"kawasakirb028.ipynb: 851\", \"kawasakirb058.ipynb: 717\"]"
      ]
     },
     "execution_count": 4,
     "metadata": {},
     "output_type": "execute_result"
    }
   ],
   "source": [
    "threads.map {|thread| thread.value}"
   ]
  },
  {
   "cell_type": "code",
   "execution_count": 5,
   "metadata": {},
   "outputs": [
    {
     "name": "stdout",
     "output_type": "stream",
     "text": [
      "#<Thread:0x0000000267f4d8 run>\n",
      "#<Thread:0x0000000267f4d8 run>\n"
     ]
    },
    {
     "data": {
      "text/plain": [
       "[#<Thread:0x0000000267f4d8 run>, #<Thread:0x000000059d0580@C:/Ruby24-x64/lib/ruby/gems/2.4.0/gems/iruby-0.3/lib/iruby/session/ffi_rzmq.rb:20 sleep>]"
      ]
     },
     "execution_count": 5,
     "metadata": {},
     "output_type": "execute_result"
    }
   ],
   "source": [
    "p Thread.main\n",
    "\n",
    "p Thread.current\n",
    "\n",
    "Thread.list"
   ]
  },
  {
   "cell_type": "markdown",
   "metadata": {},
   "source": [
    "### 5-9-2 変数の扱い"
   ]
  },
  {
   "cell_type": "code",
   "execution_count": 2,
   "metadata": {},
   "outputs": [
    {
     "data": {
      "text/plain": [
       "[#<Thread:0x0000000724efd0@(pry):5 dead>, #<Thread:0x0000000724eeb8@(pry):5 dead>, #<Thread:0x0000000724eda0@(pry):5 dead>]"
      ]
     },
     "execution_count": 2,
     "metadata": {},
     "output_type": "execute_result"
    }
   ],
   "source": [
    "jupyter_thread = Thread.list[-1]\n",
    "\n",
    "for item in %w(foo bar buzz)\n",
    "  Thread.fork do\n",
    "    sleep 1\n",
    "    \n",
    "    puts item\n",
    "  end\n",
    "end\n",
    "\n",
    "\n",
    "(Thread.list - [Thread.current, jupyter_thread]).each(&:join)"
   ]
  },
  {
   "cell_type": "code",
   "execution_count": 1,
   "metadata": {},
   "outputs": [
    {
     "data": {
      "text/plain": [
       "[#<Thread:0x00000004b4f510 run>, #<Thread:0x00000005814778@C:/Ruby24-x64/lib/ruby/gems/2.4.0/gems/iruby-0.3/lib/iruby/session/ffi_rzmq.rb:20 sleep>]"
      ]
     },
     "execution_count": 1,
     "metadata": {},
     "output_type": "execute_result"
    }
   ],
   "source": [
    "Thread.list"
   ]
  },
  {
   "cell_type": "markdown",
   "metadata": {},
   "source": [
    "次回、 「5-9-3 スレッド固有のデータ」"
   ]
  }
 ],
 "metadata": {
  "kernelspec": {
   "display_name": "Ruby 2.4.1",
   "language": "ruby",
   "name": "ruby"
  },
  "language_info": {
   "file_extension": ".rb",
   "mimetype": "application/x-ruby",
   "name": "ruby",
   "version": "2.4.1"
  }
 },
 "nbformat": 4,
 "nbformat_minor": 2
}
