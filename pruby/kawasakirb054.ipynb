{
 "cells": [
  {
   "cell_type": "markdown",
   "metadata": {},
   "source": [
    "### 5-7-2 Fileオブジェクトの操作\n",
    "\n",
    "#### ■ ファイルのロック"
   ]
  },
  {
   "cell_type": "code",
   "execution_count": 7,
   "metadata": {},
   "outputs": [
    {
     "data": {
      "text/plain": [
       "1"
      ]
     },
     "execution_count": 7,
     "metadata": {},
     "output_type": "execute_result"
    }
   ],
   "source": [
    "File.open('data/counter', File::RDWR | File::CREAT) do |f|\n",
    "  f.flock File::LOCK_EX\n",
    "  \n",
    "  count = f.read.to_i\n",
    "  f.rewind\n",
    "  f.write count.succ\n",
    "end"
   ]
  },
  {
   "cell_type": "code",
   "execution_count": 11,
   "metadata": {},
   "outputs": [
    {
     "data": {
      "text/plain": [
       "\"5\""
      ]
     },
     "execution_count": 11,
     "metadata": {},
     "output_type": "execute_result"
    }
   ],
   "source": [
    "`type counter`"
   ]
  },
  {
   "cell_type": "markdown",
   "metadata": {},
   "source": [
    "#### ■ファイルに関する情報の取得"
   ]
  },
  {
   "cell_type": "code",
   "execution_count": 12,
   "metadata": {},
   "outputs": [
    {
     "name": "stdout",
     "output_type": "stream",
     "text": [
      "2017-11-22 19:43:22 +0900\n",
      "2017-11-22 19:43:22 +0900\n",
      "2017-11-22 19:45:38 +0900\n"
     ]
    },
    {
     "data": {
      "text/plain": [
       "1"
      ]
     },
     "execution_count": 12,
     "metadata": {},
     "output_type": "execute_result"
    }
   ],
   "source": [
    "File.open 'data/counter' do |f|\n",
    "  p(f.atime)\n",
    "  p(f.ctime)\n",
    "  p(f.mtime)\n",
    "  f.size\n",
    "end"
   ]
  },
  {
   "cell_type": "code",
   "execution_count": 16,
   "metadata": {},
   "outputs": [
    {
     "name": "stdout",
     "output_type": "stream",
     "text": [
      "### file ###\n",
      "\"file\"\n",
      "true\n",
      "false\n",
      "false\n",
      "false\n",
      "false\n",
      "### File status ###\n",
      "true\n",
      "true\n",
      "false\n",
      "### Owner ###\n",
      "true\n",
      "0\n",
      "0\n",
      "### inode ###\n",
      "15481123719132246\n",
      "### Device number ###\n",
      "0\n"
     ]
    },
    {
     "data": {
      "text/plain": [
       "0"
      ]
     },
     "execution_count": 16,
     "metadata": {},
     "output_type": "execute_result"
    }
   ],
   "source": [
    "stat = File.open('data/counter', &:stat)\n",
    "\n",
    "puts \"### file ###\"\n",
    "p(stat.ftype)\n",
    "p(stat.file?)\n",
    "p(stat.directory?)\n",
    "p(stat.symlink?)\n",
    "p(stat.pipe?)\n",
    "p(stat.socket?)\n",
    "\n",
    "puts \"### File status ###\"\n",
    "p(stat.writable?)\n",
    "p(stat.readable?)\n",
    "p(stat.executable?)\n",
    "\n",
    "puts \"### Owner ###\"\n",
    "p(stat.owned?)\n",
    "\n",
    "\n",
    "p(stat.gid)\n",
    "p(stat.uid)\n",
    "\n",
    "puts \"### inode ###\"\n",
    "p(stat.ino)\n",
    "\n",
    "puts \"### Device number ###\"\n",
    "p(stat.dev)"
   ]
  },
  {
   "cell_type": "markdown",
   "metadata": {},
   "source": [
    "次回は 5-7-3 ファイルの操作"
   ]
  }
 ],
 "metadata": {
  "kernelspec": {
   "display_name": "Ruby 2.4.1",
   "language": "ruby",
   "name": "ruby"
  },
  "language_info": {
   "file_extension": ".rb",
   "mimetype": "application/x-ruby",
   "name": "ruby",
   "version": "2.4.1"
  }
 },
 "nbformat": 4,
 "nbformat_minor": 2
}
